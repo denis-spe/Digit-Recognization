{
  "cells": [
    {
      "cell_type": "markdown",
      "metadata": {
        "id": "dfHF-xOQqNfD"
      },
      "source": [
        "<h1>Digit Recognization With Tensorflow</h1>"
      ]
    },
    {
      "cell_type": "markdown",
      "metadata": {
        "id": "8CgtQ9TgqNfI"
      },
      "source": [
        "<h2 style=\"font-size: 20px;\">Import Necessary Libraries and packages</h2>"
      ]
    },
    {
      "cell_type": "code",
      "source": [
        "!pip install keras-tuner -q"
      ],
      "metadata": {
        "id": "j9GrB9oJHRej",
        "outputId": "fa6aa4ed-6b08-48b6-b7b2-199297da33e8",
        "colab": {
          "base_uri": "https://localhost:8080/"
        }
      },
      "execution_count": null,
      "outputs": [
        {
          "output_type": "stream",
          "name": "stdout",
          "text": [
            "\u001b[2K     \u001b[90m━━━━━━━━━━━━━━━━━━━━━━━━━━━━━━━━━━━━━━━\u001b[0m \u001b[32m168.1/168.1 KB\u001b[0m \u001b[31m8.4 MB/s\u001b[0m eta \u001b[36m0:00:00\u001b[0m\n",
            "\u001b[2K     \u001b[90m━━━━━━━━━━━━━━━━━━━━━━━━━━━━━━━━━━━━━━━━\u001b[0m \u001b[32m1.6/1.6 MB\u001b[0m \u001b[31m69.2 MB/s\u001b[0m eta \u001b[36m0:00:00\u001b[0m\n",
            "\u001b[?25h"
          ]
        }
      ]
    },
    {
      "cell_type": "code",
      "execution_count": null,
      "metadata": {
        "colab": {
          "base_uri": "https://localhost:8080/"
        },
        "id": "tHfHwR-OqNfK",
        "outputId": "eb7b285e-1b98-481a-bdc1-60010fb142f7"
      },
      "outputs": [
        {
          "output_type": "stream",
          "name": "stdout",
          "text": [
            "tensorflow version:  2.9.2\n"
          ]
        }
      ],
      "source": [
        "import os\n",
        "import datetime\n",
        "import numpy as np\n",
        "import pandas as pd\n",
        "import keras_tuner as kt\n",
        "import tensorflow as tf\n",
        "import matplotlib.pyplot as plt\n",
        "from tensorflow import keras\n",
        "from tensorflow.keras import callbacks\n",
        "from tensorflow.keras import layers\n",
        "from typing import Union, Tuple, Optional\n",
        "print(\"tensorflow version: \", tf.__version__)"
      ]
    },
    {
      "cell_type": "code",
      "source": [
        "%load_ext tensorboard"
      ],
      "metadata": {
        "id": "JkD68RMFxBcF"
      },
      "execution_count": null,
      "outputs": []
    },
    {
      "cell_type": "markdown",
      "metadata": {
        "id": "mb6P9C3KqNfN"
      },
      "source": [
        "<h2 style=\"font-size: 20px;\">Setting The Notebook</h2>"
      ]
    },
    {
      "cell_type": "code",
      "execution_count": null,
      "metadata": {
        "colab": {
          "base_uri": "https://localhost:8080/"
        },
        "id": "AEjq8QjsqNfN",
        "outputId": "0769e80d-4841-449a-e583-0751cfff86b5"
      },
      "outputs": [
        {
          "output_type": "stream",
          "name": "stdout",
          "text": [
            "Number of Accelerator: 1\n"
          ]
        }
      ],
      "source": [
        "# Setting the graph style\n",
        "plt.rc('figure', autolayout=True)\n",
        "plt.rc(\n",
        "    'axes', titleweight='bold', \n",
        "    titlesize=20, labelweight=700,\n",
        "    labelsize=13\n",
        "    )\n",
        "plt.rc('font', size=15)\n",
        "\n",
        "def set_seeds(seed: int=0):\n",
        "    \"\"\"Sets the Seed into order to get the same result on every code run\"\"\"\n",
        "    os.environ[\"PYTHONHASHSEED\"] = str(seed)\n",
        "    tf.random.set_seed(seed)\n",
        "    np.random.seed(seed)\n",
        "    os.environ[\"TF_DETERMINISTIC\"] = str(seed)\n",
        "    os.environ[\"CUDA_VISIBLE_DEVICES\"]=\"-1\"\n",
        "\n",
        "# Call the set_seeds with default parameter\n",
        "set_seeds()\n",
        "\n",
        "try:\n",
        "    tfu = tf.distribute.cluster_resolver.TPUClusterResolver.connect()\n",
        "    stratagy = tf.distribute.TPUStrategy(tfu)\n",
        "except ValueError:\n",
        "    stratagy = tf.distribute.get_strategy()\n",
        "print(f\"Number of Accelerator: {stratagy.num_replicas_in_sync}\")"
      ]
    },
    {
      "cell_type": "code",
      "source": [
        "train_nrow = 42000\n",
        "test_nrow = 28000\n",
        "training_size = train_nrow - test_nrow\n",
        "BATCH_SIZE_PER_REPLICA = 32\n",
        "batch_size = BATCH_SIZE_PER_REPLICA * stratagy.num_replicas_in_sync\n",
        "steps_per_epoch = training_size // batch_size\n",
        "validation_steps = test_nrow // batch_size"
      ],
      "metadata": {
        "id": "owIluphakaX4"
      },
      "execution_count": null,
      "outputs": []
    },
    {
      "cell_type": "markdown",
      "metadata": {
        "id": "PisWUlUmqNfO"
      },
      "source": [
        "<h2 style=\"font-size: 20px;\">Above Dataset</h2>\n",
        "<p style=\"font-size: 15px;\">\n",
        "The data files train.csv and test.csv contain gray-scale images of hand-drawn digits, from zero through nine.\n",
        "\n",
        "Each image is 28 pixels in height and 28 pixels in width, for a total of 784 pixels in total. Each pixel has a single pixel-value associated with it, indicating the lightness or darkness of that pixel, with higher numbers meaning darker. This pixel-value is an integer between 0 and 255, inclusive.\n",
        "\n",
        "The training data set, (train.csv), has 785 columns. The first column, called \"label\", is the digit that was drawn by the user. The rest of the columns contain the pixel-values of the associated image.\n",
        "\n",
        "Each pixel column in the training set has a name like pixelx, where x is an integer between 0 and 783, inclusive. To locate this pixel on the image, suppose that we have decomposed x as x = i * 28 + j, where i and j are integers between 0 and 27, inclusive. Then pixelx is located on row i and column j of a 28 x 28 matrix, (indexing by zero).\n",
        "</p>"
      ]
    },
    {
      "cell_type": "markdown",
      "metadata": {
        "id": "zWpujn2MqNfP"
      },
      "source": [
        "<h2 style=\"font-size: 20px;\">Load Csv File Into Pandas DataFrame</h2>"
      ]
    },
    {
      "cell_type": "code",
      "execution_count": null,
      "metadata": {
        "id": "gjagb9UJqWKc"
      },
      "outputs": [],
      "source": [
        "try:\n",
        "    from google.colab import drive\n",
        "    # Mount google files\n",
        "    drive.mount('/gdrive')\n",
        "\n",
        "    # list the files from drive\n",
        "    folder_path = '../gdrive/MyDrive/Datasets/MNIST_data'\n",
        "    \n",
        "except ImportError:\n",
        "    folder_path = '../input/digit-recognizer'\n",
        "\n",
        "os.listdir(folder_path)"
      ]
    },
    {
      "cell_type": "code",
      "execution_count": null,
      "metadata": {
        "id": "qnfQo_yxqNfP"
      },
      "outputs": [],
      "source": [
        "# Data Path\n",
        "train_data_path = folder_path + '/train.csv'\n",
        "test_data_path = folder_path + '/test.csv'\n",
        "\n",
        "# Loading dataset into pandas \n",
        "train_df = pd.read_csv(train_data_path)\n",
        "test_df = pd.read_csv(test_data_path)"
      ]
    },
    {
      "cell_type": "markdown",
      "metadata": {
        "id": "bfkkDqGdqNfQ"
      },
      "source": [
        "<h2 style=\"font-size: 20px;\">View The Dataframe</h2>"
      ]
    },
    {
      "cell_type": "code",
      "execution_count": null,
      "metadata": {
        "id": "ieRawEREqNfR"
      },
      "outputs": [],
      "source": [
        "# First Rows in the train data\n",
        "print(train_df.shape)\n",
        "train_df.head()"
      ]
    },
    {
      "cell_type": "code",
      "execution_count": null,
      "metadata": {
        "id": "4IRzv3OnqNfR"
      },
      "outputs": [],
      "source": [
        "# First Rows in the test data\n",
        "print(test_df.shape)\n",
        "test_df.head()"
      ]
    },
    {
      "cell_type": "markdown",
      "metadata": {
        "id": "1iKh19Uu2OEQ"
      },
      "source": [
        "<h2 style=\"font-size: 20px;\">Train Data Split Into Train and Validation data</h2>"
      ]
    },
    {
      "cell_type": "code",
      "execution_count": null,
      "metadata": {
        "id": "GqEJl7EA2dV5"
      },
      "outputs": [],
      "source": [
        "mask = np.random.randn(len(train_df)) > 0.8\n",
        "train_data = train_df[mask]\n",
        "valid_data = train_df[~mask]\n",
        "print(f\"Train_data shape: {train_data.shape}\\nValid_data: {valid_data.shape}\")"
      ]
    },
    {
      "cell_type": "markdown",
      "metadata": {
        "id": "WQofPy3lqNfS"
      },
      "source": [
        "<h2 style=\"font-size: 20px;\">Create Dataset Generator</h2>"
      ]
    },
    {
      "cell_type": "code",
      "execution_count": null,
      "metadata": {
        "id": "6RMv7k1zqNfT"
      },
      "outputs": [],
      "source": [
        "class DatasetGenerator:\n",
        "    def __init__(self, batch_size: int = batch_size, shuffle: int = False, epoch: int = 10) -> None:\n",
        "        self.batch_size = batch_size\n",
        "        self.shuffle = shuffle\n",
        "        self.epoch = epoch\n",
        "\n",
        "    def __call__(self, df: pd.DataFrame) -> any:\n",
        "        if self.shuffle:\n",
        "            df_ = tf.constant([\n",
        "                row[1:].values / 255\n",
        "                for _, row in df.iterrows()\n",
        "                ])\n",
        "            df_ = tf.reshape(df_, [len(df), 28, 28, 1])\n",
        "            labels = df.iloc[:, 0]\n",
        "            data = tf.data.Dataset.from_tensor_slices((df_, labels)).batch(self.batch_size).shuffle(1000)\n",
        "        else:\n",
        "            df_ = tf.constant([\n",
        "                row.values.reshape(28, 28) /255\n",
        "                for _, row in df.iterrows()\n",
        "                ])\n",
        "            df_ = tf.reshape(df_, [len(df), 28, 28, 1])\n",
        "            data = tf.data.Dataset.from_tensor_slices((df_)).batch(self.batch_size)\n",
        "        return data"
      ]
    },
    {
      "cell_type": "markdown",
      "metadata": {
        "id": "rQZNmVfVqNfV"
      },
      "source": [
        "<h2 style=\"font-size: 20px;\">Convert The Data To tensor</h2>"
      ]
    },
    {
      "cell_type": "code",
      "execution_count": null,
      "metadata": {
        "id": "LD4Zd62NqNfW"
      },
      "outputs": [],
      "source": [
        "# Change the dataframes to generator \n",
        "train_data = DatasetGenerator(shuffle=True, batch_size=batch_size)(train_data)\n",
        "validation_data = DatasetGenerator(shuffle=True, batch_size=batch_size)(valid_data)\n",
        "test_dataset = DatasetGenerator()(test_df)\n",
        "train_data"
      ]
    },
    {
      "cell_type": "markdown",
      "metadata": {
        "id": "v0DWrfItqNfW"
      },
      "source": [
        "<h2 style=\"font-size: 20px;\">Exploring Datasets</h2>"
      ]
    },
    {
      "cell_type": "code",
      "execution_count": null,
      "metadata": {
        "id": "ADVM-AAcqNfX"
      },
      "outputs": [],
      "source": [
        "# Exploring One of the image in the train_dataset generator\n",
        "img, label = next(iter(train_data))"
      ]
    },
    {
      "cell_type": "code",
      "execution_count": null,
      "metadata": {
        "id": "7uup4sof4w7S"
      },
      "outputs": [],
      "source": [
        "print(\"image Datatype: \", type(img[0]))\n",
        "print(\"label data type: \", type(label[1]))\n",
        "print(\"label: \", set(label.numpy()))"
      ]
    },
    {
      "cell_type": "code",
      "execution_count": null,
      "metadata": {
        "id": "vjPGLIZzqNfX"
      },
      "outputs": [],
      "source": [
        "# For exploratory purpose change the image to numpy array\n",
        "np_img = np.array(img)\n",
        "IMG_SHAPE = np_img.shape\n",
        "print(\"Image shape: \", IMG_SHAPE)"
      ]
    },
    {
      "cell_type": "markdown",
      "metadata": {
        "id": "fbfPxc_gqNfY"
      },
      "source": [
        "<h2 style=\"font-size: 20px;\">Digits Visualization</h2>"
      ]
    },
    {
      "cell_type": "code",
      "execution_count": null,
      "metadata": {
        "id": "gCTp8TCuqNfZ"
      },
      "outputs": [],
      "source": [
        "# Visualizing of the one image in the test_dataset\n",
        "img = next(iter(test_dataset))\n",
        "cmap = plt.get_cmap('magma')\n",
        "plt.imshow(tf.squeeze(img[0]), cmap=cmap)\n",
        "plt.axis('off')\n",
        "plt.show()\n"
      ]
    },
    {
      "cell_type": "code",
      "execution_count": null,
      "metadata": {
        "id": "Qy9WTFQIqNfZ"
      },
      "outputs": [],
      "source": [
        "# Create Subplot instance\n",
        "fig, ax = plt.subplots(figsize=(8, 8))\n",
        "\n",
        "# Number of columns and rows\n",
        "NROW = 3\n",
        "NCOL = 3\n",
        "\n",
        "# loop over the range of NROW * NCOL starting from 1\n",
        "for i in range(1, NROW * NROW + 1):\n",
        "    fig.add_subplot(NROW, NCOL, i)\n",
        "\n",
        "    # Get the image from the generated index\n",
        "    img, label = next(iter(train_data))\n",
        "\n",
        "    # Plot it\n",
        "    plt.imshow(tf.squeeze(img[0]), \n",
        "        cmap=cmap\n",
        "        )\n",
        "    plt.axis('off')\n",
        "    plt.title(label[0].numpy())\n",
        "    ax.set_xticklabels([])\n",
        "    ax.set_yticklabels([])\n",
        "    ax.set_axis_off()"
      ]
    },
    {
      "cell_type": "markdown",
      "metadata": {
        "id": "GHCjAPFDqNfb"
      },
      "source": [
        "<h2 style=\"font-size: 20px;\">Building Convolutional Model</h2>"
      ]
    },
    {
      "cell_type": "code",
      "source": [],
      "metadata": {
        "id": "ncaSe8Ah_nJY"
      },
      "execution_count": null,
      "outputs": []
    },
    {
      "cell_type": "markdown",
      "metadata": {
        "id": "0ivZTEHFWwsh"
      },
      "source": [
        "<h2 style=\"font-size: 20px;\">Submission</h2>"
      ]
    },
    {
      "cell_type": "code",
      "execution_count": null,
      "metadata": {
        "id": "AdhSM8kMqNfd"
      },
      "outputs": [],
      "source": [
        "# Make predictions\n",
        "prob  = conv_model.predict(test_dataset)\n",
        "# Get the highest value from probability\n",
        "pred = tf.argmax(prob, 1)"
      ]
    },
    {
      "cell_type": "code",
      "execution_count": null,
      "metadata": {
        "id": "8WE9oJ-iPWVD"
      },
      "outputs": [],
      "source": [
        "submission=pd.read_csv(folder_path + '/sample_submission.csv')\n",
        "submission['Label']=pred\n",
        "submission.to_csv('prediction20_conv.csv', index=False)"
      ]
    }
  ],
  "metadata": {
    "colab": {
      "name": "digit_recognization_tf.ipynb",
      "provenance": []
    },
    "interpreter": {
      "hash": "2d3cd06894a6a6978ad5a2c20767bf28db0a15e6b1f133abf29af83db06c1725"
    },
    "kernelspec": {
      "display_name": "Python 3.9.7 64-bit ('tensorflow': conda)",
      "language": "python",
      "name": "python3"
    },
    "language_info": {
      "codemirror_mode": {
        "name": "ipython",
        "version": 3
      },
      "file_extension": ".py",
      "mimetype": "text/x-python",
      "name": "python",
      "nbconvert_exporter": "python",
      "pygments_lexer": "ipython3",
      "version": "3.9.7"
    },
    "accelerator": "GPU",
    "gpuClass": "standard"
  },
  "nbformat": 4,
  "nbformat_minor": 0
}