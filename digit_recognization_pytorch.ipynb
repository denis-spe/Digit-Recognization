{
  "cells": [
    {
      "cell_type": "markdown",
      "metadata": {
        "id": "view-in-github",
        "colab_type": "text"
      },
      "source": [
        "<a href=\"https://colab.research.google.com/github/denis-spe/Digit-Recognization/blob/v2/digit_recognization_pytorch.ipynb\" target=\"_parent\"><img src=\"https://colab.research.google.com/assets/colab-badge.svg\" alt=\"Open In Colab\"/></a>"
      ]
    },
    {
      "cell_type": "markdown",
      "metadata": {
        "id": "RAq-VCxmh5Vw"
      },
      "source": [
        "<h1>Digit Recognization With Pytorch</h1>"
      ]
    },
    {
      "cell_type": "markdown",
      "metadata": {
        "id": "OWj3GPQ1h5V9"
      },
      "source": [
        "<h2 style=\"font-size: 20px;\">Import Necessary Libraries and packages</h2>"
      ]
    },
    {
      "cell_type": "code",
      "execution_count": 1,
      "metadata": {
        "colab": {
          "base_uri": "https://localhost:8080/"
        },
        "id": "902_XujGOl2D",
        "outputId": "71519ef4-20a7-41fe-c94c-bd31790d3b40"
      },
      "outputs": [
        {
          "output_type": "stream",
          "name": "stdout",
          "text": [
            "Looking in indexes: https://pypi.org/simple, https://us-python.pkg.dev/colab-wheels/public/simple/\n",
            "Collecting torchinfo\n",
            "  Downloading torchinfo-1.6.6-py3-none-any.whl (21 kB)\n",
            "Installing collected packages: torchinfo\n",
            "Successfully installed torchinfo-1.6.6\n"
          ]
        }
      ],
      "source": [
        "!pip install torchinfo\n"
      ]
    },
    {
      "cell_type": "code",
      "execution_count": 2,
      "metadata": {
        "colab": {
          "base_uri": "https://localhost:8080/"
        },
        "id": "zMt6hD8jh5V-",
        "outputId": "ee58cefa-49d3-4324-9474-f4d31f920105"
      },
      "outputs": [
        {
          "output_type": "stream",
          "name": "stdout",
          "text": [
            "Pytorch Version:  1.11.0+cu113\n"
          ]
        }
      ],
      "source": [
        "import torch\n",
        "import numpy as np\n",
        "import pandas as pd\n",
        "import os, warnings, time\n",
        "from PIL import Image\n",
        "from typing import Dict, Iterator\n",
        "from torchinfo import summary\n",
        "from torch import nn as nn\n",
        "import matplotlib.pyplot as plt\n",
        "from torch import functional as f\n",
        "from torchvision import transforms\n",
        "from torch.utils.data import Dataset\n",
        "from torch.utils.data import DataLoader\n",
        "print(\"Pytorch Version: \", torch.__version__)"
      ]
    },
    {
      "cell_type": "markdown",
      "metadata": {
        "id": "bAofDxrMh5WE"
      },
      "source": [
        "<h2 style=\"font-size: 20px;\">Configuring The NoteBook</h2>"
      ]
    },
    {
      "cell_type": "code",
      "execution_count": 3,
      "metadata": {
        "id": "qS1Be65_h5WF"
      },
      "outputs": [],
      "source": [
        "# Setting the graph style\n",
        "plt.rc('figure', autolayout=True)\n",
        "plt.rc(\n",
        "    'axes', titleweight='bold', \n",
        "    titlesize=20, labelweight=700,\n",
        "    labelsize=13\n",
        "    )\n",
        "plt.rc('font', size=15)\n",
        "\n",
        "def set_seeds(seed: int=0):\n",
        "    \"\"\"Sets the Seed into order to same result on every code run\"\"\"\n",
        "    os.environ[\"CUDA_VISIBLE_DEVICES\"] = '1'\n",
        "    np.random.seed(seed)\n",
        "    torch.manual_seed(seed)\n",
        "\n",
        "# Call the set_seeds with default parameter\n",
        "set_seeds()\n",
        "\n",
        "# Turning the warnings\n",
        "warnings.filterwarnings('ignore')\n",
        "\n"
      ]
    },
    {
      "cell_type": "markdown",
      "metadata": {
        "id": "VromiOaMh5WJ"
      },
      "source": [
        "<h3 style=\"font-size: 20px;\">Setting the variable to be used in model building and training</h3>"
      ]
    },
    {
      "cell_type": "code",
      "execution_count": 4,
      "metadata": {
        "id": "F7oWDesPh5WL"
      },
      "outputs": [],
      "source": [
        "BATCH_SIZE=16\n",
        "EPOCHS = 10\n",
        "LEARNING_RATE = 1e-3"
      ]
    },
    {
      "cell_type": "markdown",
      "metadata": {
        "id": "qC0c6ztfh5WN"
      },
      "source": [
        "<h2 style=\"font-size: 20px;\">Above Data</h2>\n",
        "<p style=\"font-size: 15px;\">\n",
        "The data files train.csv and test.csv contain gray-scale images of hand-drawn digits, from zero through nine.\n",
        "\n",
        "Each image is 28 pixels in height and 28 pixels in width, for a total of 784 pixels in total. Each pixel has a single pixel-value associated with it, indicating the lightness or darkness of that pixel, with higher numbers meaning darker. This pixel-value is an integer between 0 and 255, inclusive.\n",
        "\n",
        "The training data set, (train.csv), has 785 columns. The first column, called \"label\", is the digit that was drawn by the user. The rest of the columns contain the pixel-values of the associated image.\n",
        "\n",
        "Each pixel column in the training set has a name like pixelx, where x is an integer between 0 and 783, inclusive. To locate this pixel on the image, suppose that we have decomposed x as x = i * 28 + j, where i and j are integers between 0 and 27, inclusive. Then pixelx is located on row i and column j of a 28 x 28 matrix, (indexing by zero).\n",
        "\n",
        "For example, pixel31 indicates the pixel that is in the fourth column from the left, and the second row from the top, as in the ascii-diagram below.\n",
        "\n",
        "Visually, if we omit the \"pixel\" prefix, the pixels make up the image like this:\n",
        "<pre>\n",
        "000 001 002 003 ... 026 027\n",
        "028 029 030 031 ... 054 055\n",
        "056 057 058 059 ... 082 083\n",
        "|   |   |   |  ...  |   |\n",
        "728 729 730 731 ... 754 755\n",
        "756 757 758 759 ... 782 783\n",
        "</pre>\n",
        "</p>"
      ]
    },
    {
      "cell_type": "markdown",
      "metadata": {
        "id": "MBpHjGIuh5WP"
      },
      "source": [
        "<h2 style=\"font-size: 20px;\">Load Csv File Into Pandas DataFrame</h2>"
      ]
    },
    {
      "cell_type": "code",
      "execution_count": 5,
      "metadata": {
        "colab": {
          "base_uri": "https://localhost:8080/"
        },
        "id": "-fJ3Mmu3h_Co",
        "outputId": "3a6c6503-f51b-4a61-c52d-42a4e20487a4"
      },
      "outputs": [
        {
          "output_type": "stream",
          "name": "stdout",
          "text": [
            "Mounted at /gdrive\n"
          ]
        },
        {
          "output_type": "execute_result",
          "data": {
            "text/plain": [
              "['train.csv', 'test.csv', 'sample_submission.csv']"
            ]
          },
          "metadata": {},
          "execution_count": 5
        }
      ],
      "source": [
        "try:\n",
        "    from google.colab import drive\n",
        "    # Connect the google drive\n",
        "    drive.mount('/gdrive')\n",
        "\n",
        "    # list the files from drive\n",
        "    folder_path = '../gdrive/MyDrive/Datasets/MNIST_data'\n",
        "except ImportError:\n",
        "    folder_path = '../input/digit-recognizer'\n",
        "\n",
        "os.listdir(folder_path)"
      ]
    },
    {
      "cell_type": "code",
      "execution_count": 6,
      "metadata": {
        "id": "htANu1tch5WQ"
      },
      "outputs": [],
      "source": [
        "# Data Path\n",
        "train_data_path = folder_path + '/train.csv'\n",
        "test_data_path = folder_path + '/test.csv'\n",
        "\n",
        "\n"
      ]
    },
    {
      "cell_type": "code",
      "execution_count": 7,
      "metadata": {
        "id": "MG7ObC8XixQ_"
      },
      "outputs": [],
      "source": [
        "# Loading dataset into pandas \n",
        "train_df = pd.read_csv(train_data_path)\n",
        "test_df = pd.read_csv(test_data_path)"
      ]
    },
    {
      "cell_type": "markdown",
      "metadata": {
        "id": "6-sQevvSh5WS"
      },
      "source": [
        "<h2 style=\"font-size: 20px;\">View The Dataframe</h2>"
      ]
    },
    {
      "cell_type": "code",
      "execution_count": 8,
      "metadata": {
        "colab": {
          "base_uri": "https://localhost:8080/",
          "height": 317
        },
        "id": "IH8kp5lyh5WT",
        "outputId": "80aa8dc4-67a6-4d7a-987f-450e422a3e98"
      },
      "outputs": [
        {
          "output_type": "stream",
          "name": "stdout",
          "text": [
            "(42000, 785)\n"
          ]
        },
        {
          "output_type": "execute_result",
          "data": {
            "text/plain": [
              "   label  pixel0  pixel1  pixel2  pixel3  pixel4  pixel5  pixel6  pixel7  \\\n",
              "0      1       0       0       0       0       0       0       0       0   \n",
              "1      0       0       0       0       0       0       0       0       0   \n",
              "2      1       0       0       0       0       0       0       0       0   \n",
              "3      4       0       0       0       0       0       0       0       0   \n",
              "4      0       0       0       0       0       0       0       0       0   \n",
              "\n",
              "   pixel8  ...  pixel774  pixel775  pixel776  pixel777  pixel778  pixel779  \\\n",
              "0       0  ...         0         0         0         0         0         0   \n",
              "1       0  ...         0         0         0         0         0         0   \n",
              "2       0  ...         0         0         0         0         0         0   \n",
              "3       0  ...         0         0         0         0         0         0   \n",
              "4       0  ...         0         0         0         0         0         0   \n",
              "\n",
              "   pixel780  pixel781  pixel782  pixel783  \n",
              "0         0         0         0         0  \n",
              "1         0         0         0         0  \n",
              "2         0         0         0         0  \n",
              "3         0         0         0         0  \n",
              "4         0         0         0         0  \n",
              "\n",
              "[5 rows x 785 columns]"
            ],
            "text/html": [
              "\n",
              "  <div id=\"df-490e282b-3cbc-4ce3-be1e-157414e5204e\">\n",
              "    <div class=\"colab-df-container\">\n",
              "      <div>\n",
              "<style scoped>\n",
              "    .dataframe tbody tr th:only-of-type {\n",
              "        vertical-align: middle;\n",
              "    }\n",
              "\n",
              "    .dataframe tbody tr th {\n",
              "        vertical-align: top;\n",
              "    }\n",
              "\n",
              "    .dataframe thead th {\n",
              "        text-align: right;\n",
              "    }\n",
              "</style>\n",
              "<table border=\"1\" class=\"dataframe\">\n",
              "  <thead>\n",
              "    <tr style=\"text-align: right;\">\n",
              "      <th></th>\n",
              "      <th>label</th>\n",
              "      <th>pixel0</th>\n",
              "      <th>pixel1</th>\n",
              "      <th>pixel2</th>\n",
              "      <th>pixel3</th>\n",
              "      <th>pixel4</th>\n",
              "      <th>pixel5</th>\n",
              "      <th>pixel6</th>\n",
              "      <th>pixel7</th>\n",
              "      <th>pixel8</th>\n",
              "      <th>...</th>\n",
              "      <th>pixel774</th>\n",
              "      <th>pixel775</th>\n",
              "      <th>pixel776</th>\n",
              "      <th>pixel777</th>\n",
              "      <th>pixel778</th>\n",
              "      <th>pixel779</th>\n",
              "      <th>pixel780</th>\n",
              "      <th>pixel781</th>\n",
              "      <th>pixel782</th>\n",
              "      <th>pixel783</th>\n",
              "    </tr>\n",
              "  </thead>\n",
              "  <tbody>\n",
              "    <tr>\n",
              "      <th>0</th>\n",
              "      <td>1</td>\n",
              "      <td>0</td>\n",
              "      <td>0</td>\n",
              "      <td>0</td>\n",
              "      <td>0</td>\n",
              "      <td>0</td>\n",
              "      <td>0</td>\n",
              "      <td>0</td>\n",
              "      <td>0</td>\n",
              "      <td>0</td>\n",
              "      <td>...</td>\n",
              "      <td>0</td>\n",
              "      <td>0</td>\n",
              "      <td>0</td>\n",
              "      <td>0</td>\n",
              "      <td>0</td>\n",
              "      <td>0</td>\n",
              "      <td>0</td>\n",
              "      <td>0</td>\n",
              "      <td>0</td>\n",
              "      <td>0</td>\n",
              "    </tr>\n",
              "    <tr>\n",
              "      <th>1</th>\n",
              "      <td>0</td>\n",
              "      <td>0</td>\n",
              "      <td>0</td>\n",
              "      <td>0</td>\n",
              "      <td>0</td>\n",
              "      <td>0</td>\n",
              "      <td>0</td>\n",
              "      <td>0</td>\n",
              "      <td>0</td>\n",
              "      <td>0</td>\n",
              "      <td>...</td>\n",
              "      <td>0</td>\n",
              "      <td>0</td>\n",
              "      <td>0</td>\n",
              "      <td>0</td>\n",
              "      <td>0</td>\n",
              "      <td>0</td>\n",
              "      <td>0</td>\n",
              "      <td>0</td>\n",
              "      <td>0</td>\n",
              "      <td>0</td>\n",
              "    </tr>\n",
              "    <tr>\n",
              "      <th>2</th>\n",
              "      <td>1</td>\n",
              "      <td>0</td>\n",
              "      <td>0</td>\n",
              "      <td>0</td>\n",
              "      <td>0</td>\n",
              "      <td>0</td>\n",
              "      <td>0</td>\n",
              "      <td>0</td>\n",
              "      <td>0</td>\n",
              "      <td>0</td>\n",
              "      <td>...</td>\n",
              "      <td>0</td>\n",
              "      <td>0</td>\n",
              "      <td>0</td>\n",
              "      <td>0</td>\n",
              "      <td>0</td>\n",
              "      <td>0</td>\n",
              "      <td>0</td>\n",
              "      <td>0</td>\n",
              "      <td>0</td>\n",
              "      <td>0</td>\n",
              "    </tr>\n",
              "    <tr>\n",
              "      <th>3</th>\n",
              "      <td>4</td>\n",
              "      <td>0</td>\n",
              "      <td>0</td>\n",
              "      <td>0</td>\n",
              "      <td>0</td>\n",
              "      <td>0</td>\n",
              "      <td>0</td>\n",
              "      <td>0</td>\n",
              "      <td>0</td>\n",
              "      <td>0</td>\n",
              "      <td>...</td>\n",
              "      <td>0</td>\n",
              "      <td>0</td>\n",
              "      <td>0</td>\n",
              "      <td>0</td>\n",
              "      <td>0</td>\n",
              "      <td>0</td>\n",
              "      <td>0</td>\n",
              "      <td>0</td>\n",
              "      <td>0</td>\n",
              "      <td>0</td>\n",
              "    </tr>\n",
              "    <tr>\n",
              "      <th>4</th>\n",
              "      <td>0</td>\n",
              "      <td>0</td>\n",
              "      <td>0</td>\n",
              "      <td>0</td>\n",
              "      <td>0</td>\n",
              "      <td>0</td>\n",
              "      <td>0</td>\n",
              "      <td>0</td>\n",
              "      <td>0</td>\n",
              "      <td>0</td>\n",
              "      <td>...</td>\n",
              "      <td>0</td>\n",
              "      <td>0</td>\n",
              "      <td>0</td>\n",
              "      <td>0</td>\n",
              "      <td>0</td>\n",
              "      <td>0</td>\n",
              "      <td>0</td>\n",
              "      <td>0</td>\n",
              "      <td>0</td>\n",
              "      <td>0</td>\n",
              "    </tr>\n",
              "  </tbody>\n",
              "</table>\n",
              "<p>5 rows × 785 columns</p>\n",
              "</div>\n",
              "      <button class=\"colab-df-convert\" onclick=\"convertToInteractive('df-490e282b-3cbc-4ce3-be1e-157414e5204e')\"\n",
              "              title=\"Convert this dataframe to an interactive table.\"\n",
              "              style=\"display:none;\">\n",
              "        \n",
              "  <svg xmlns=\"http://www.w3.org/2000/svg\" height=\"24px\"viewBox=\"0 0 24 24\"\n",
              "       width=\"24px\">\n",
              "    <path d=\"M0 0h24v24H0V0z\" fill=\"none\"/>\n",
              "    <path d=\"M18.56 5.44l.94 2.06.94-2.06 2.06-.94-2.06-.94-.94-2.06-.94 2.06-2.06.94zm-11 1L8.5 8.5l.94-2.06 2.06-.94-2.06-.94L8.5 2.5l-.94 2.06-2.06.94zm10 10l.94 2.06.94-2.06 2.06-.94-2.06-.94-.94-2.06-.94 2.06-2.06.94z\"/><path d=\"M17.41 7.96l-1.37-1.37c-.4-.4-.92-.59-1.43-.59-.52 0-1.04.2-1.43.59L10.3 9.45l-7.72 7.72c-.78.78-.78 2.05 0 2.83L4 21.41c.39.39.9.59 1.41.59.51 0 1.02-.2 1.41-.59l7.78-7.78 2.81-2.81c.8-.78.8-2.07 0-2.86zM5.41 20L4 18.59l7.72-7.72 1.47 1.35L5.41 20z\"/>\n",
              "  </svg>\n",
              "      </button>\n",
              "      \n",
              "  <style>\n",
              "    .colab-df-container {\n",
              "      display:flex;\n",
              "      flex-wrap:wrap;\n",
              "      gap: 12px;\n",
              "    }\n",
              "\n",
              "    .colab-df-convert {\n",
              "      background-color: #E8F0FE;\n",
              "      border: none;\n",
              "      border-radius: 50%;\n",
              "      cursor: pointer;\n",
              "      display: none;\n",
              "      fill: #1967D2;\n",
              "      height: 32px;\n",
              "      padding: 0 0 0 0;\n",
              "      width: 32px;\n",
              "    }\n",
              "\n",
              "    .colab-df-convert:hover {\n",
              "      background-color: #E2EBFA;\n",
              "      box-shadow: 0px 1px 2px rgba(60, 64, 67, 0.3), 0px 1px 3px 1px rgba(60, 64, 67, 0.15);\n",
              "      fill: #174EA6;\n",
              "    }\n",
              "\n",
              "    [theme=dark] .colab-df-convert {\n",
              "      background-color: #3B4455;\n",
              "      fill: #D2E3FC;\n",
              "    }\n",
              "\n",
              "    [theme=dark] .colab-df-convert:hover {\n",
              "      background-color: #434B5C;\n",
              "      box-shadow: 0px 1px 3px 1px rgba(0, 0, 0, 0.15);\n",
              "      filter: drop-shadow(0px 1px 2px rgba(0, 0, 0, 0.3));\n",
              "      fill: #FFFFFF;\n",
              "    }\n",
              "  </style>\n",
              "\n",
              "      <script>\n",
              "        const buttonEl =\n",
              "          document.querySelector('#df-490e282b-3cbc-4ce3-be1e-157414e5204e button.colab-df-convert');\n",
              "        buttonEl.style.display =\n",
              "          google.colab.kernel.accessAllowed ? 'block' : 'none';\n",
              "\n",
              "        async function convertToInteractive(key) {\n",
              "          const element = document.querySelector('#df-490e282b-3cbc-4ce3-be1e-157414e5204e');\n",
              "          const dataTable =\n",
              "            await google.colab.kernel.invokeFunction('convertToInteractive',\n",
              "                                                     [key], {});\n",
              "          if (!dataTable) return;\n",
              "\n",
              "          const docLinkHtml = 'Like what you see? Visit the ' +\n",
              "            '<a target=\"_blank\" href=https://colab.research.google.com/notebooks/data_table.ipynb>data table notebook</a>'\n",
              "            + ' to learn more about interactive tables.';\n",
              "          element.innerHTML = '';\n",
              "          dataTable['output_type'] = 'display_data';\n",
              "          await google.colab.output.renderOutput(dataTable, element);\n",
              "          const docLink = document.createElement('div');\n",
              "          docLink.innerHTML = docLinkHtml;\n",
              "          element.appendChild(docLink);\n",
              "        }\n",
              "      </script>\n",
              "    </div>\n",
              "  </div>\n",
              "  "
            ]
          },
          "metadata": {},
          "execution_count": 8
        }
      ],
      "source": [
        "# First Rows in the train data\n",
        "print(train_df.shape)\n",
        "train_df.head()"
      ]
    },
    {
      "cell_type": "code",
      "execution_count": 9,
      "metadata": {
        "colab": {
          "base_uri": "https://localhost:8080/",
          "height": 317
        },
        "id": "j01AA56Ih5WU",
        "outputId": "442a2d31-6c6a-4f20-df79-e46b5cb59a95"
      },
      "outputs": [
        {
          "output_type": "stream",
          "name": "stdout",
          "text": [
            "(28000, 784)\n"
          ]
        },
        {
          "output_type": "execute_result",
          "data": {
            "text/plain": [
              "   pixel0  pixel1  pixel2  pixel3  pixel4  pixel5  pixel6  pixel7  pixel8  \\\n",
              "0       0       0       0       0       0       0       0       0       0   \n",
              "1       0       0       0       0       0       0       0       0       0   \n",
              "2       0       0       0       0       0       0       0       0       0   \n",
              "3       0       0       0       0       0       0       0       0       0   \n",
              "4       0       0       0       0       0       0       0       0       0   \n",
              "\n",
              "   pixel9  ...  pixel774  pixel775  pixel776  pixel777  pixel778  pixel779  \\\n",
              "0       0  ...         0         0         0         0         0         0   \n",
              "1       0  ...         0         0         0         0         0         0   \n",
              "2       0  ...         0         0         0         0         0         0   \n",
              "3       0  ...         0         0         0         0         0         0   \n",
              "4       0  ...         0         0         0         0         0         0   \n",
              "\n",
              "   pixel780  pixel781  pixel782  pixel783  \n",
              "0         0         0         0         0  \n",
              "1         0         0         0         0  \n",
              "2         0         0         0         0  \n",
              "3         0         0         0         0  \n",
              "4         0         0         0         0  \n",
              "\n",
              "[5 rows x 784 columns]"
            ],
            "text/html": [
              "\n",
              "  <div id=\"df-8eb5ebe1-faa7-43c1-b9af-a984f6ea1a54\">\n",
              "    <div class=\"colab-df-container\">\n",
              "      <div>\n",
              "<style scoped>\n",
              "    .dataframe tbody tr th:only-of-type {\n",
              "        vertical-align: middle;\n",
              "    }\n",
              "\n",
              "    .dataframe tbody tr th {\n",
              "        vertical-align: top;\n",
              "    }\n",
              "\n",
              "    .dataframe thead th {\n",
              "        text-align: right;\n",
              "    }\n",
              "</style>\n",
              "<table border=\"1\" class=\"dataframe\">\n",
              "  <thead>\n",
              "    <tr style=\"text-align: right;\">\n",
              "      <th></th>\n",
              "      <th>pixel0</th>\n",
              "      <th>pixel1</th>\n",
              "      <th>pixel2</th>\n",
              "      <th>pixel3</th>\n",
              "      <th>pixel4</th>\n",
              "      <th>pixel5</th>\n",
              "      <th>pixel6</th>\n",
              "      <th>pixel7</th>\n",
              "      <th>pixel8</th>\n",
              "      <th>pixel9</th>\n",
              "      <th>...</th>\n",
              "      <th>pixel774</th>\n",
              "      <th>pixel775</th>\n",
              "      <th>pixel776</th>\n",
              "      <th>pixel777</th>\n",
              "      <th>pixel778</th>\n",
              "      <th>pixel779</th>\n",
              "      <th>pixel780</th>\n",
              "      <th>pixel781</th>\n",
              "      <th>pixel782</th>\n",
              "      <th>pixel783</th>\n",
              "    </tr>\n",
              "  </thead>\n",
              "  <tbody>\n",
              "    <tr>\n",
              "      <th>0</th>\n",
              "      <td>0</td>\n",
              "      <td>0</td>\n",
              "      <td>0</td>\n",
              "      <td>0</td>\n",
              "      <td>0</td>\n",
              "      <td>0</td>\n",
              "      <td>0</td>\n",
              "      <td>0</td>\n",
              "      <td>0</td>\n",
              "      <td>0</td>\n",
              "      <td>...</td>\n",
              "      <td>0</td>\n",
              "      <td>0</td>\n",
              "      <td>0</td>\n",
              "      <td>0</td>\n",
              "      <td>0</td>\n",
              "      <td>0</td>\n",
              "      <td>0</td>\n",
              "      <td>0</td>\n",
              "      <td>0</td>\n",
              "      <td>0</td>\n",
              "    </tr>\n",
              "    <tr>\n",
              "      <th>1</th>\n",
              "      <td>0</td>\n",
              "      <td>0</td>\n",
              "      <td>0</td>\n",
              "      <td>0</td>\n",
              "      <td>0</td>\n",
              "      <td>0</td>\n",
              "      <td>0</td>\n",
              "      <td>0</td>\n",
              "      <td>0</td>\n",
              "      <td>0</td>\n",
              "      <td>...</td>\n",
              "      <td>0</td>\n",
              "      <td>0</td>\n",
              "      <td>0</td>\n",
              "      <td>0</td>\n",
              "      <td>0</td>\n",
              "      <td>0</td>\n",
              "      <td>0</td>\n",
              "      <td>0</td>\n",
              "      <td>0</td>\n",
              "      <td>0</td>\n",
              "    </tr>\n",
              "    <tr>\n",
              "      <th>2</th>\n",
              "      <td>0</td>\n",
              "      <td>0</td>\n",
              "      <td>0</td>\n",
              "      <td>0</td>\n",
              "      <td>0</td>\n",
              "      <td>0</td>\n",
              "      <td>0</td>\n",
              "      <td>0</td>\n",
              "      <td>0</td>\n",
              "      <td>0</td>\n",
              "      <td>...</td>\n",
              "      <td>0</td>\n",
              "      <td>0</td>\n",
              "      <td>0</td>\n",
              "      <td>0</td>\n",
              "      <td>0</td>\n",
              "      <td>0</td>\n",
              "      <td>0</td>\n",
              "      <td>0</td>\n",
              "      <td>0</td>\n",
              "      <td>0</td>\n",
              "    </tr>\n",
              "    <tr>\n",
              "      <th>3</th>\n",
              "      <td>0</td>\n",
              "      <td>0</td>\n",
              "      <td>0</td>\n",
              "      <td>0</td>\n",
              "      <td>0</td>\n",
              "      <td>0</td>\n",
              "      <td>0</td>\n",
              "      <td>0</td>\n",
              "      <td>0</td>\n",
              "      <td>0</td>\n",
              "      <td>...</td>\n",
              "      <td>0</td>\n",
              "      <td>0</td>\n",
              "      <td>0</td>\n",
              "      <td>0</td>\n",
              "      <td>0</td>\n",
              "      <td>0</td>\n",
              "      <td>0</td>\n",
              "      <td>0</td>\n",
              "      <td>0</td>\n",
              "      <td>0</td>\n",
              "    </tr>\n",
              "    <tr>\n",
              "      <th>4</th>\n",
              "      <td>0</td>\n",
              "      <td>0</td>\n",
              "      <td>0</td>\n",
              "      <td>0</td>\n",
              "      <td>0</td>\n",
              "      <td>0</td>\n",
              "      <td>0</td>\n",
              "      <td>0</td>\n",
              "      <td>0</td>\n",
              "      <td>0</td>\n",
              "      <td>...</td>\n",
              "      <td>0</td>\n",
              "      <td>0</td>\n",
              "      <td>0</td>\n",
              "      <td>0</td>\n",
              "      <td>0</td>\n",
              "      <td>0</td>\n",
              "      <td>0</td>\n",
              "      <td>0</td>\n",
              "      <td>0</td>\n",
              "      <td>0</td>\n",
              "    </tr>\n",
              "  </tbody>\n",
              "</table>\n",
              "<p>5 rows × 784 columns</p>\n",
              "</div>\n",
              "      <button class=\"colab-df-convert\" onclick=\"convertToInteractive('df-8eb5ebe1-faa7-43c1-b9af-a984f6ea1a54')\"\n",
              "              title=\"Convert this dataframe to an interactive table.\"\n",
              "              style=\"display:none;\">\n",
              "        \n",
              "  <svg xmlns=\"http://www.w3.org/2000/svg\" height=\"24px\"viewBox=\"0 0 24 24\"\n",
              "       width=\"24px\">\n",
              "    <path d=\"M0 0h24v24H0V0z\" fill=\"none\"/>\n",
              "    <path d=\"M18.56 5.44l.94 2.06.94-2.06 2.06-.94-2.06-.94-.94-2.06-.94 2.06-2.06.94zm-11 1L8.5 8.5l.94-2.06 2.06-.94-2.06-.94L8.5 2.5l-.94 2.06-2.06.94zm10 10l.94 2.06.94-2.06 2.06-.94-2.06-.94-.94-2.06-.94 2.06-2.06.94z\"/><path d=\"M17.41 7.96l-1.37-1.37c-.4-.4-.92-.59-1.43-.59-.52 0-1.04.2-1.43.59L10.3 9.45l-7.72 7.72c-.78.78-.78 2.05 0 2.83L4 21.41c.39.39.9.59 1.41.59.51 0 1.02-.2 1.41-.59l7.78-7.78 2.81-2.81c.8-.78.8-2.07 0-2.86zM5.41 20L4 18.59l7.72-7.72 1.47 1.35L5.41 20z\"/>\n",
              "  </svg>\n",
              "      </button>\n",
              "      \n",
              "  <style>\n",
              "    .colab-df-container {\n",
              "      display:flex;\n",
              "      flex-wrap:wrap;\n",
              "      gap: 12px;\n",
              "    }\n",
              "\n",
              "    .colab-df-convert {\n",
              "      background-color: #E8F0FE;\n",
              "      border: none;\n",
              "      border-radius: 50%;\n",
              "      cursor: pointer;\n",
              "      display: none;\n",
              "      fill: #1967D2;\n",
              "      height: 32px;\n",
              "      padding: 0 0 0 0;\n",
              "      width: 32px;\n",
              "    }\n",
              "\n",
              "    .colab-df-convert:hover {\n",
              "      background-color: #E2EBFA;\n",
              "      box-shadow: 0px 1px 2px rgba(60, 64, 67, 0.3), 0px 1px 3px 1px rgba(60, 64, 67, 0.15);\n",
              "      fill: #174EA6;\n",
              "    }\n",
              "\n",
              "    [theme=dark] .colab-df-convert {\n",
              "      background-color: #3B4455;\n",
              "      fill: #D2E3FC;\n",
              "    }\n",
              "\n",
              "    [theme=dark] .colab-df-convert:hover {\n",
              "      background-color: #434B5C;\n",
              "      box-shadow: 0px 1px 3px 1px rgba(0, 0, 0, 0.15);\n",
              "      filter: drop-shadow(0px 1px 2px rgba(0, 0, 0, 0.3));\n",
              "      fill: #FFFFFF;\n",
              "    }\n",
              "  </style>\n",
              "\n",
              "      <script>\n",
              "        const buttonEl =\n",
              "          document.querySelector('#df-8eb5ebe1-faa7-43c1-b9af-a984f6ea1a54 button.colab-df-convert');\n",
              "        buttonEl.style.display =\n",
              "          google.colab.kernel.accessAllowed ? 'block' : 'none';\n",
              "\n",
              "        async function convertToInteractive(key) {\n",
              "          const element = document.querySelector('#df-8eb5ebe1-faa7-43c1-b9af-a984f6ea1a54');\n",
              "          const dataTable =\n",
              "            await google.colab.kernel.invokeFunction('convertToInteractive',\n",
              "                                                     [key], {});\n",
              "          if (!dataTable) return;\n",
              "\n",
              "          const docLinkHtml = 'Like what you see? Visit the ' +\n",
              "            '<a target=\"_blank\" href=https://colab.research.google.com/notebooks/data_table.ipynb>data table notebook</a>'\n",
              "            + ' to learn more about interactive tables.';\n",
              "          element.innerHTML = '';\n",
              "          dataTable['output_type'] = 'display_data';\n",
              "          await google.colab.output.renderOutput(dataTable, element);\n",
              "          const docLink = document.createElement('div');\n",
              "          docLink.innerHTML = docLinkHtml;\n",
              "          element.appendChild(docLink);\n",
              "        }\n",
              "      </script>\n",
              "    </div>\n",
              "  </div>\n",
              "  "
            ]
          },
          "metadata": {},
          "execution_count": 9
        }
      ],
      "source": [
        "# First Rows in the test data\n",
        "print(test_df.shape)\n",
        "test_df.head()"
      ]
    },
    {
      "cell_type": "markdown",
      "metadata": {
        "id": "7E0CD7qV5Szq"
      },
      "source": [
        "<h2 style=\"font-size: 20px;\">Split Train Dataset Into Train And Validation Set</h2>"
      ]
    },
    {
      "cell_type": "code",
      "execution_count": 10,
      "metadata": {
        "colab": {
          "base_uri": "https://localhost:8080/"
        },
        "id": "yZOWFflx5G54",
        "outputId": "0290c6d5-6553-49a0-c5d1-f35309d6f053"
      },
      "outputs": [
        {
          "output_type": "stream",
          "name": "stdout",
          "text": [
            "Train_data Shape (33172, 785)\n",
            "Valid_data: (8828, 785)\n"
          ]
        }
      ],
      "source": [
        "mask = np.random.randn(len(train_df)) <= 0.8\n",
        "train_data = train_df[mask]\n",
        "valid_data = train_df[~mask]\n",
        "print(f\"Train_data Shape {train_data.shape}\\nValid_data: {valid_data.shape}\")"
      ]
    },
    {
      "cell_type": "markdown",
      "metadata": {
        "id": "G18wkTxbh5WV"
      },
      "source": [
        "<h2 style=\"font-size: 20px;\">Creating Dataset</h2>"
      ]
    },
    {
      "cell_type": "code",
      "execution_count": 11,
      "metadata": {
        "id": "vsS_Z0xih5WV"
      },
      "outputs": [],
      "source": [
        "class CreateDataset(Dataset):\n",
        "    def __init__(self, df: pd.DataFrame, transforms: transforms = None, \n",
        "                 train: bool =True, normalize: bool = True):\n",
        "        self.transforms = transforms\n",
        "        self.train = train\n",
        "        self.df = df\n",
        "        self.len = self.df.shape[0]\n",
        "        self.normalize = normalize\n",
        "\n",
        "    def __len__(self):\n",
        "        return self.len\n",
        "\n",
        "    def __getitem__(self, index: int): \n",
        "        if 'label' in self.df.columns:\n",
        "            image = self.df.iloc[index, 1:].values.reshape(28, 28)\n",
        "            if self.normalize:\n",
        "                image = self.df.iloc[index, 1:].values.reshape(28, 28) / 255\n",
        "            label = self.df.iloc[index, 0]\n",
        "            if self.transforms:\n",
        "                image = self.transforms(image).type(torch.float)\n",
        "            return image, label\n",
        "        else:\n",
        "            image = self.df.iloc[index, :].values.reshape(28, 28)\n",
        "            if self.normalize:\n",
        "                image = self.df.iloc[index, :].values.reshape(28, 28) / 255\n",
        "            if self.transforms:\n",
        "                image = self.transforms(image).type(torch.float)\n",
        "            return image"
      ]
    },
    {
      "cell_type": "code",
      "execution_count": 12,
      "metadata": {
        "id": "S2ogKeC-sG05"
      },
      "outputs": [],
      "source": [
        "# Construct Datasets train_X_set \n",
        "train_X_set = CreateDataset(\n",
        "    train_data, \n",
        "    transforms=transforms.Compose([transforms.ToTensor()]))\n",
        "\n",
        "# Construct valid_X_set dataset\n",
        "valid_X_set = CreateDataset(\n",
        "    valid_data, \n",
        "    transforms=transforms.Compose([transforms.ToTensor()]))\n",
        "\n",
        "# Construct test_data \n",
        "test_data = CreateDataset(\n",
        "    test_df, \n",
        "    transforms=transforms.Compose([transforms.ToTensor()]))"
      ]
    },
    {
      "cell_type": "markdown",
      "metadata": {
        "id": "_9bELv8oh5WW"
      },
      "source": [
        "<h2 style=\"font-size: 20px;\">Placing Dataset Into Dataloader</h2>"
      ]
    },
    {
      "cell_type": "code",
      "execution_count": 13,
      "metadata": {
        "id": "Ev82xBN7h5WX"
      },
      "outputs": [],
      "source": [
        "# Coupling Datasets with dataloader function\n",
        "train_dataloader = DataLoader(train_X_set, batch_size=BATCH_SIZE, shuffle=True)\n",
        "valid_dataloader = DataLoader(valid_X_set, batch_size=BATCH_SIZE, shuffle=True)\n",
        "\n",
        "test_dataloader = DataLoader(test_data, batch_size=BATCH_SIZE, shuffle=False)"
      ]
    },
    {
      "cell_type": "markdown",
      "metadata": {
        "id": "uockZt5th5WY"
      },
      "source": [
        "<h2 style=\"font-size: 20px;\">Exploring Datasets</h2>"
      ]
    },
    {
      "cell_type": "code",
      "execution_count": 14,
      "metadata": {
        "id": "tN7ZRYojh5WY"
      },
      "outputs": [],
      "source": [
        "# Getting the first image and label in the train_dataset\n",
        "img, label = train_dataloader.dataset[0]"
      ]
    },
    {
      "cell_type": "code",
      "execution_count": 15,
      "metadata": {
        "colab": {
          "base_uri": "https://localhost:8080/"
        },
        "id": "Q1etS2PQh5Wd",
        "outputId": "1f05d677-d992-43b1-e2d7-acb7414b5e80"
      },
      "outputs": [
        {
          "output_type": "stream",
          "name": "stdout",
          "text": [
            "Data Type for image: <class 'torch.Tensor'>\n",
            "Shape of images dataset: torch.Size([1, 28, 28])\n",
            "Data Type for label: <class 'numpy.int64'>\n",
            "Label [0, 1, 2, 3, 4, 5, 6, 7, 8, 9]\n"
          ]
        }
      ],
      "source": [
        "print(f\"Data Type for image: {type(img)}\")\n",
        "print(f\"Shape of images dataset: {img.size()}\")\n",
        "print(f\"Data Type for label: {type(label)}\")\n",
        "print(f\"Label {sorted(train_df.loc[:, 'label'].unique())}\")"
      ]
    },
    {
      "cell_type": "markdown",
      "metadata": {
        "id": "WePKN7FMh5Wf"
      },
      "source": [
        "<h2 style=\"font-size: 20px;\">Digits Visualization</h2>"
      ]
    },
    {
      "cell_type": "code",
      "execution_count": 16,
      "metadata": {
        "id": "AJlvuPjutYhr"
      },
      "outputs": [],
      "source": [
        "img = next(iter(test_dataloader))"
      ]
    },
    {
      "cell_type": "code",
      "execution_count": 17,
      "metadata": {
        "colab": {
          "base_uri": "https://localhost:8080/",
          "height": 287
        },
        "id": "6QVZuDKCh5Wg",
        "outputId": "41959f52-4f10-41cf-e406-1a4b5e7d8c9b"
      },
      "outputs": [
        {
          "output_type": "display_data",
          "data": {
            "text/plain": [
              "<Figure size 432x288 with 1 Axes>"
            ],
            "image/png": "[encoded data removed]"
          },
          "metadata": {
            "needs_background": "light"
          }
        }
      ],
      "source": [
        "\n",
        "# Visualizing of the one image in the test_dataset\n",
        "img = next(iter(test_dataloader.dataset))\n",
        "cmap = plt.get_cmap('Blues')\n",
        "plt.imshow(img.squeeze(), cmap=cmap)\n",
        "plt.axis('off')\n",
        "plt.show()"
      ]
    },
    {
      "cell_type": "code",
      "execution_count": 18,
      "metadata": {
        "colab": {
          "base_uri": "https://localhost:8080/",
          "height": 575
        },
        "id": "3rGh7K44h5Wh",
        "outputId": "a3107646-3948-4cf1-c213-5c4f408ef46e"
      },
      "outputs": [
        {
          "output_type": "display_data",
          "data": {
            "text/plain": [
              "<Figure size 576x576 with 10 Axes>"
            ],
            "image/png": "[encoded data removed]"
          },
          "metadata": {
            "needs_background": "light"
          }
        }
      ],
      "source": [
        "# Create Subplot instance\n",
        "fig, ax = plt.subplots(figsize=(8, 8))\n",
        "\n",
        "# Number of columns and rows\n",
        "NROW = 3\n",
        "NCOL = 3\n",
        "\n",
        "# loop over the range of NROW * NCOL starting from 1\n",
        "for i in range(1, NROW * NROW + 1):\n",
        "    fig.add_subplot(NROW, NCOL, i)\n",
        "    \n",
        "    # Generat random number in range of length of image in the train_dataloader.dataset\n",
        "    idx = torch.randint(len(train_dataloader.dataset), size=(1,)).item()\n",
        "\n",
        "    # Get the image from the generated index\n",
        "    img, label = train_dataloader.dataset[idx]\n",
        "\n",
        "    # Plot it\n",
        "    plt.imshow(img.squeeze(), cmap=cmap)\n",
        "    plt.axis('off')\n",
        "    plt.title(label)\n",
        "    ax.set_xticklabels([])\n",
        "    ax.set_yticklabels([])\n",
        "    ax.set_axis_off()"
      ]
    },
    {
      "cell_type": "markdown",
      "metadata": {
        "id": "_yz-frsOh5Wi"
      },
      "source": [
        "<h2 style=\"font-size: 20px;\">Model Building</h2>"
      ]
    },
    {
      "cell_type": "code",
      "source": [
        "# Use the Gpu if available either cpu will be used\n",
        "device = 'cuda:0' if torch.cuda.is_available() else \"cpu\"\n",
        "print(\"Using %s\" % device)"
      ],
      "metadata": {
        "id": "ksMZ2ARL1if5",
        "outputId": "c230024a-674c-410b-b315-8b7b4e8de128",
        "colab": {
          "base_uri": "https://localhost:8080/"
        }
      },
      "execution_count": 19,
      "outputs": [
        {
          "output_type": "stream",
          "name": "stdout",
          "text": [
            "Using cpu\n"
          ]
        }
      ]
    },
    {
      "cell_type": "code",
      "source": [
        "torch.cuda.device_count()"
      ],
      "metadata": {
        "id": "vjRVdpaX47cd",
        "outputId": "49863c66-5b49-4db8-8fb5-6f8ae89f41fa",
        "colab": {
          "base_uri": "https://localhost:8080/"
        }
      },
      "execution_count": 20,
      "outputs": [
        {
          "output_type": "execute_result",
          "data": {
            "text/plain": [
              "0"
            ]
          },
          "metadata": {},
          "execution_count": 20
        }
      ]
    },
    {
      "cell_type": "code",
      "source": [
        "# Check whether PyTorch’s CUDA state has been initialized\n",
        "torch.cuda.is_initialized()"
      ],
      "metadata": {
        "id": "id4iVzMo4NTD",
        "outputId": "86a5dd30-f9ba-4619-b20e-03a37cf00933",
        "colab": {
          "base_uri": "https://localhost:8080/"
        }
      },
      "execution_count": 21,
      "outputs": [
        {
          "output_type": "execute_result",
          "data": {
            "text/plain": [
              "False"
            ]
          },
          "metadata": {},
          "execution_count": 21
        }
      ]
    },
    {
      "cell_type": "code",
      "execution_count": 22,
      "metadata": {
        "id": "-VQ-HlOR8xGi"
      },
      "outputs": [],
      "source": [
        "from sys import breakpointhook\n",
        "class Model(nn.Module):\n",
        "    def __init__(self, layers: Iterator) -> None:\n",
        "        self.__layers = layers\n",
        "        super(Model, self).__init__()\n",
        "        self.__stacked_layers = nn.Sequential(*self.__layers)\n",
        "        self.model_training = True\n",
        "    \n",
        "\n",
        "    def forward(self, X):\n",
        "        return self.__stacked_layers(X)\n",
        "\n",
        "    def compile(self, optimize: any, loss: any, device: str =None) -> None:\n",
        "        self.device = device\n",
        "        self.optim = optimize\n",
        "        self.loss = loss\n",
        "        self.model = Model(self.__layers).to(self.device)\n",
        "        \n",
        "    \n",
        "    def train_process(self, data_loader, verbose: bool =True) -> None:\n",
        "        \"\"\"\n",
        "        Train model on train_data\n",
        "        \"\"\"\n",
        "        # Indicating the model to training\n",
        "        self.model.train()\n",
        "\n",
        "        # Number of images in  data_loader: size \n",
        "        size = len(data_loader.dataset)\n",
        "\n",
        "        # Initialize the metric variable\n",
        "        total_acc, total_loss, count_label, current = 0, 0, 0, 0\n",
        "\n",
        "        start = time.time()\n",
        "        # iterate over the data_loader\n",
        "        for batch, (X, y) in enumerate(data_loader):\n",
        "            # Switch to device \n",
        "            X, y = X.to(self.device), y.to(self.device)\n",
        "       \n",
        "            # Make prediction\n",
        "            yhat = self.model(X)\n",
        "            \n",
        "            # *** Backpropagation Process ***\n",
        "\n",
        "            # Compute error by measure the degree of dissimilarity \n",
        "            # from obtained result in target\n",
        "            criterion = self.loss(yhat, y)\n",
        "            \n",
        "            # Reset the gradient of the model parameters\n",
        "            # Gradients by default add up; to prevent double-counting, \n",
        "            # we explicitly zero them at each iteration.\n",
        "            self.optim.zero_grad()\n",
        "      \n",
        "            # Back propagate the prediction loss to deposit the gradient of loss\n",
        "            # for learnable parameters\n",
        "            criterion.backward()\n",
        "\n",
        "\n",
        "            # Adjust the parameters by gradient collected in the backward pass\n",
        "            self.optim.step()\n",
        "\n",
        "            # Count number of labels\n",
        "            count_label += len(y)\n",
        "\n",
        "            # sum each loss to total_loss variable\n",
        "            total_loss += criterion.item()\n",
        "\n",
        "            _, predict = torch.max(yhat, 1)\n",
        "\n",
        "            # Add every accuracy on total_acc\n",
        "            total_acc += (predict == y).sum().item()\n",
        "            \n",
        "            if batch % 100 == 0:\n",
        "                if verbose:\n",
        "                    print(\".\", end=\" \")\n",
        "                current += (batch / size)\n",
        "\n",
        "\n",
        "        stop = time.time()\n",
        "        time_taken = round(stop - start, 3)\n",
        "\n",
        "        return (total_loss / count_label,\n",
        "                 total_acc / count_label, time_taken,\n",
        "                int(round(current * 100))\n",
        "                )\n",
        "\n",
        "    def evaluate (self, data_loader) -> None:\n",
        "        \"\"\" \n",
        "        Evaluation model with validation data\n",
        "        \"\"\"\n",
        "        # Directing model to evaluation process\n",
        "        self.model.eval()\n",
        "\n",
        "        # Instaniate metric variables\n",
        "        total_loss, total_acc, count_labels = 0, 0, 0\n",
        "\n",
        "        # Disabling gradient calculation\n",
        "        with torch.no_grad():\n",
        "            for X, y in data_loader:\n",
        "                # Set to device\n",
        "                X, y = X.to(self.device), y.to(self.device)\n",
        "\n",
        "                # Make prediction\n",
        "                pred = self.model(X)\n",
        "\n",
        "                # Compute the loss(error)\n",
        "                criterion = self.loss(pred, y)\n",
        "\n",
        "                # Add number of label to count_labels\n",
        "                count_labels += len(y)\n",
        "\n",
        "                # Add criterion loss to total_loss\n",
        "                total_loss += criterion.item()\n",
        "\n",
        "                # Sum accuracy to total_acc\n",
        "                total_acc += (pred.argmax(1) == y).sum().item()\n",
        "\n",
        "            # Finally return total_loss and total_acc which each is divded by\n",
        "            # count_labels\n",
        "            return total_loss / count_labels, total_acc /count_labels\n",
        "\n",
        "    def fit(\n",
        "        self, \n",
        "        train_data: DataLoader,\n",
        "        epochs: int = 1,\n",
        "        validation_data: DataLoader = None,\n",
        "        verbose: bool = True,\n",
        "        callbacks: list = None\n",
        "        ) -> None:\n",
        "        \"\"\"\n",
        "        The Fit method make use of train data and\n",
        "        validation data if provided\n",
        "        Arg:\n",
        "        :param train_data (DataLoader) Data for training the model:\n",
        "        :param epoch (int) Number of iteration:\n",
        "        :param validation_data (DataLoader) Data to validate how well the model\n",
        "         preformed:\n",
        "        :param verbose (bool) show training progress:\n",
        "        \"\"\"\n",
        "        # Initializing variable for storing metric score\n",
        "        metrics = {}\n",
        "        acc_list = []\n",
        "        loss_list = []\n",
        "        valid_acc_list = []\n",
        "        valid_loss_list = []\n",
        "\n",
        "        # loop throught the epoch\n",
        "        for epoch in range(epochs):\n",
        "            if verbose:\n",
        "                print(f\"\\nEpoch {epoch + 1}/{epochs} \")\n",
        "                train = self.train_process(train_data, verbose=verbose)\n",
        "\n",
        "            # Instaniate train loss and accuracy\n",
        "            train_loss = round(train[0], 6)\n",
        "            train_acc = round(train[1], 5)\n",
        "            if verbose:\n",
        "                print(f\"{int(train[2])}s {train[3]}ms/steps - \\\n",
        "loss: {train_loss} - acc: {train_acc} \", end = \"\")\n",
        "\n",
        "            # Storing the model score\n",
        "            acc_list.append(train_acc)\n",
        "            loss_list.append(train_loss)\n",
        "\n",
        "            if validation_data:\n",
        "                valid = self.evaluate(validation_data)\n",
        "                # Instaniate train loss and accuracy\n",
        "                valid_loss = round(valid[0], 6)\n",
        "                valid_acc = round(valid[1], 4)\n",
        "\n",
        "                if verbose:\n",
        "                    print(f\"- val_loss: {valid_loss} - val_acc: {valid_acc} \", \n",
        "                          end = \"\")\n",
        "\n",
        "                # Store the score \n",
        "                valid_loss_list.append(valid_loss)\n",
        "                valid_acc_list.append(valid_acc)\n",
        "\n",
        "            if not self.model_training:\n",
        "                # Break the training loop if model_training is false\n",
        "                break\n",
        "            \n",
        "            if callbacks:\n",
        "                for callback in callbacks:\n",
        "                    callback(self, metrics)\n",
        "\n",
        "        metrics[\"acc\"] = acc_list\n",
        "        metrics[\"loss\"] = loss_list\n",
        "\n",
        "        if validation_data:\n",
        "            metrics[\"val_acc\"] = valid_acc_list\n",
        "            metrics[\"val_loss\"] = valid_loss_list\n",
        "\n",
        "        if not verbose:\n",
        "            print(f\"\\nEpoch {epoch + 1}/{epochs} \")\n",
        "            print(f\"{int(train[2])}s {train[3]}ms/steps - \\\n",
        "loss: {metrics['loss'][-1]} - acc: {metrics['acc'][-1]} \", end = \"\")\n",
        "            print(f\"- val_loss: { metrics['val_loss'][-1]} - val_acc: \\\n",
        "{metrics['val_acc'][-1]} \", end = \"\")\n",
        "\n",
        "        return metrics\n",
        "    \n",
        "    def predict(self, y) -> torch.tensor:\n",
        "        # list storage for predictions\n",
        "        predictions = []\n",
        "\n",
        "        # Indicate to evalation process\n",
        "        #self.model.eval()\n",
        "\n",
        "        # Don't use the gradient\n",
        "        with torch.no_grad():\n",
        "\n",
        "            # Loop over the values in y\n",
        "            for val in y.dataset:\n",
        "\n",
        "                # switch to device\n",
        "                val = val.to(self.device)\n",
        "\n",
        "                # Make prediction\n",
        "                probability = self.model(val)\n",
        "\n",
        "                # probability variable returns probability\n",
        "                # Therefor convert it to actual value\n",
        "                pred = torch.argmax(probability, 1).item()\n",
        "\n",
        "                # Add prediction to predictions list\n",
        "                predictions.append(pred)\n",
        "        return predictions\n"
      ]
    },
    {
      "cell_type": "code",
      "execution_count": 23,
      "metadata": {
        "colab": {
          "base_uri": "https://localhost:8080/"
        },
        "id": "mqoD-ZsXQyXS",
        "outputId": "abd97316-eb77-45d5-a97b-b2b513f74dc7"
      },
      "outputs": [
        {
          "output_type": "execute_result",
          "data": {
            "text/plain": [
              "=================================================================\n",
              "Layer (type:depth-idx)                   Param #\n",
              "=================================================================\n",
              "Model                                    --\n",
              "├─Sequential: 1-1                        --\n",
              "│    └─Flatten: 2-1                      --\n",
              "│    └─Linear: 2-2                       200,960\n",
              "│    └─ReLU: 2-3                         --\n",
              "│    └─Dropout: 2-4                      --\n",
              "│    └─Linear: 2-5                       65,792\n",
              "│    └─ReLU: 2-6                         --\n",
              "│    └─Dropout: 2-7                      --\n",
              "│    └─Linear: 2-8                       2,570\n",
              "│    └─Softmax: 2-9                      --\n",
              "=================================================================\n",
              "Total params: 269,322\n",
              "Trainable params: 269,322\n",
              "Non-trainable params: 0\n",
              "================================================================="
            ]
          },
          "metadata": {},
          "execution_count": 23
        }
      ],
      "source": [
        "# Initialize the TrainEvaluationModel: train_eval\n",
        "model = Model([\n",
        "               # Transpose Input data\n",
        "               nn.Flatten(),\n",
        "\n",
        "               # Input layer\n",
        "               nn.Linear(in_features=28*28, out_features=256),\n",
        "               nn.ReLU(), # Activation function\n",
        "               nn.Dropout(.4),\n",
        "\n",
        "               # First hidden layer\n",
        "               nn.Linear(in_features=256, out_features=256),\n",
        "               nn.ReLU(), # Activation function\n",
        "               nn.Dropout(.4), # Drop same pixal\n",
        "\n",
        "               # Output layer\n",
        "               nn.Linear(in_features=256, out_features=10),\n",
        "               nn.Softmax()\n",
        "\n",
        "               ])\n",
        "summary(model)"
      ]
    },
    {
      "cell_type": "code",
      "source": [
        "model.compile(\n",
        "    optimize=torch.optim.Adam(model.parameters()),\n",
        "    loss=nn.CrossEntropyLoss(),\n",
        "    device=device\n",
        "    )"
      ],
      "metadata": {
        "id": "dVfoAjYzzsHG"
      },
      "execution_count": 24,
      "outputs": []
    },
    {
      "cell_type": "code",
      "execution_count": 25,
      "metadata": {
        "colab": {
          "base_uri": "https://localhost:8080/",
          "height": 339
        },
        "id": "kjX0dNVt1rr4",
        "outputId": "3d2612a0-d980-419f-b724-b81fb7deef06"
      },
      "outputs": [
        {
          "output_type": "stream",
          "name": "stdout",
          "text": [
            "\n",
            "Epoch 1/10 \n",
            ". . . . . . . . . . . . . . . . . . . . . 33s 63ms/steps - loss: 0.100699 - acc: 0.85837 - val_loss: 0.096009 - val_acc: 0.9282 "
          ]
        },
        {
          "output_type": "error",
          "ename": "TypeError",
          "evalue": "ignored",
          "traceback": [
            "\u001b[0;31m---------------------------------------------------------------------------\u001b[0m",
            "\u001b[0;31mTypeError\u001b[0m                                 Traceback (most recent call last)",
            "\u001b[0;32m<ipython-input-25-ed81bbd12e60>\u001b[0m in \u001b[0;36m<module>\u001b[0;34m()\u001b[0m\n\u001b[0;32m----> 1\u001b[0;31m \u001b[0mhistory\u001b[0m \u001b[0;34m=\u001b[0m \u001b[0mmodel\u001b[0m\u001b[0;34m.\u001b[0m\u001b[0mfit\u001b[0m\u001b[0;34m(\u001b[0m\u001b[0mtrain_dataloader\u001b[0m\u001b[0;34m,\u001b[0m \u001b[0mepochs\u001b[0m\u001b[0;34m=\u001b[0m\u001b[0mEPOCHS\u001b[0m\u001b[0;34m,\u001b[0m \u001b[0mvalidation_data\u001b[0m\u001b[0;34m=\u001b[0m\u001b[0mvalid_dataloader\u001b[0m\u001b[0;34m,\u001b[0m \u001b[0mverbose\u001b[0m\u001b[0;34m=\u001b[0m\u001b[0;32mTrue\u001b[0m\u001b[0;34m)\u001b[0m\u001b[0;34m\u001b[0m\u001b[0;34m\u001b[0m\u001b[0m\n\u001b[0m",
            "\u001b[0;32m<ipython-input-22-1a354ebb547b>\u001b[0m in \u001b[0;36mfit\u001b[0;34m(self, train_data, epochs, validation_data, verbose, callbacks)\u001b[0m\n\u001b[1;32m    179\u001b[0m \u001b[0;34m\u001b[0m\u001b[0m\n\u001b[1;32m    180\u001b[0m             \u001b[0;32mif\u001b[0m \u001b[0;32mnot\u001b[0m \u001b[0mcallbacks\u001b[0m\u001b[0;34m:\u001b[0m\u001b[0;34m\u001b[0m\u001b[0;34m\u001b[0m\u001b[0m\n\u001b[0;32m--> 181\u001b[0;31m                 \u001b[0;32mfor\u001b[0m \u001b[0mcallback\u001b[0m \u001b[0;32min\u001b[0m \u001b[0mcallbacks\u001b[0m\u001b[0;34m:\u001b[0m\u001b[0;34m\u001b[0m\u001b[0;34m\u001b[0m\u001b[0m\n\u001b[0m\u001b[1;32m    182\u001b[0m                     \u001b[0mcallback\u001b[0m\u001b[0;34m(\u001b[0m\u001b[0mself\u001b[0m\u001b[0;34m,\u001b[0m \u001b[0mmetrics\u001b[0m\u001b[0;34m)\u001b[0m\u001b[0;34m\u001b[0m\u001b[0;34m\u001b[0m\u001b[0m\n\u001b[1;32m    183\u001b[0m \u001b[0;34m\u001b[0m\u001b[0m\n",
            "\u001b[0;31mTypeError\u001b[0m: 'NoneType' object is not iterable"
          ]
        }
      ],
      "source": [
        "history = model.fit(train_dataloader, epochs=EPOCHS, validation_data=valid_dataloader, verbose=True)"
      ]
    },
    {
      "cell_type": "markdown",
      "source": [
        "<h2 style=\"font-size: 20px;\">Model Evaluation</h2>"
      ],
      "metadata": {
        "id": "JRaR0JdLPMO3"
      }
    },
    {
      "cell_type": "code",
      "source": [
        "evalutate = model.evaluate(valid_dataloader)\n",
        "print(f\"Loss: {round(evalutate[0], 4)} - Accurary: {round(evalutate[1], 3)}%\")"
      ],
      "metadata": {
        "id": "iwHMrfUhPUY2"
      },
      "execution_count": null,
      "outputs": []
    },
    {
      "cell_type": "code",
      "execution_count": null,
      "metadata": {
        "id": "rBP5eUgpq2AF"
      },
      "outputs": [],
      "source": [
        "def plot_metrics(history: Dict, n_epoch: int) -> plt.figure:\n",
        "    \"\"\"\n",
        "    Return matplotlib figure with accuracy score \n",
        "    and loss score visualization\n",
        "    parameter:\n",
        "    -----------------------\n",
        "    :param history, Dictionary with model loss and accuracy:\n",
        "    :return plt.figure with subplots of train and validation score:\n",
        "    \"\"\"\n",
        "    fig, ax = plt.subplots(1, 2, figsize=(12, 5))\n",
        "    epochs = list(range(n_epoch))\n",
        "    ax[0].plot(epochs, history[\"acc\"], \"ob\")\n",
        "    ax[0].plot(epochs, history[\"val_acc\"])\n",
        "\n",
        "    ax[1].plot(epochs, history[\"loss\"], \"ob\")\n",
        "    ax[1].plot(epochs, history[\"val_loss\"])\n",
        "\n",
        "    for i in range(2):\n",
        "        ax[i].set_ylabel(f\"Accuracy\")\n",
        "        ax[i].set_xlabel(\"Epoch\")\n",
        "        \n",
        "        # Hide the right and top spines\n",
        "        ax[i].spines['right'].set_visible(False)\n",
        "        ax[i].spines['top'].set_visible(False)\n",
        "        ax[i].legend([\"train\", \"valid\"])\n",
        "\n",
        "    ax[0].set_title(f\"Train And Valid Accuracy\".title(), weight=500, y=1.06, size=15)\n",
        "    ax[1].set_title(f\"Train And Valid loss\".title(), weight=500, y=1.06, size=15)\n",
        "    fig.suptitle(\"Model Score Visualization\", y=1.1, weight=800, size=17)\n",
        "plot_metrics(history, n_epoch=EPOCHS)"
      ]
    },
    {
      "cell_type": "markdown",
      "source": [
        "# **Hypeparameter Tuning**"
      ],
      "metadata": {
        "id": "VTZGekk-0BuD"
      }
    },
    {
      "cell_type": "code",
      "source": [
        ""
      ],
      "metadata": {
        "id": "A3UO-m-l0GaC"
      },
      "execution_count": null,
      "outputs": []
    },
    {
      "cell_type": "markdown",
      "metadata": {
        "id": "KQ-pYvS5sXnL"
      },
      "source": [
        "# Submission"
      ]
    },
    {
      "cell_type": "code",
      "execution_count": null,
      "metadata": {
        "id": "Nj28nVG1hx2A"
      },
      "outputs": [],
      "source": [
        "# make predictions\n",
        "pred = model.predict(test_dataloader)"
      ]
    },
    {
      "cell_type": "code",
      "execution_count": null,
      "metadata": {
        "id": "EHpXI36ak1Ia"
      },
      "outputs": [],
      "source": [
        "submission=pd.read_csv(folder_path + '/sample_submission.csv')\n",
        "submission['Label']=pred\n",
        "submission.to_csv('pytorch_prediction6.csv', index=False)"
      ]
    },
    {
      "cell_type": "code",
      "source": [
        ""
      ],
      "metadata": {
        "id": "g2ULG6XEFgde"
      },
      "execution_count": null,
      "outputs": []
    }
  ],
  "metadata": {
    "colab": {
      "collapsed_sections": [],
      "name": "digit_recognization_pytorch.ipynb",
      "provenance": [],
      "include_colab_link": true
    },
    "interpreter": {
      "hash": "fe2ff5e824d45c60ebd8700e9b0b9f7e0d88fd912d4809d61e13dd965c0e1922"
    },
    "kernelspec": {
      "display_name": "Python 3.9.7 64-bit ('pytorch': conda)",
      "language": "python",
      "name": "python3"
    },
    "language_info": {
      "codemirror_mode": {
        "name": "ipython",
        "version": 3
      },
      "file_extension": ".py",
      "mimetype": "text/x-python",
      "name": "python",
      "nbconvert_exporter": "python",
      "pygments_lexer": "ipython3",
      "version": "3.9.7"
    }
  },
  "nbformat": 4,
  "nbformat_minor": 0
}