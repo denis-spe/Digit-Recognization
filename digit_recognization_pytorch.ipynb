{
  "cells": [
    {
      "cell_type": "markdown",
      "metadata": {
        "id": "view-in-github",
        "colab_type": "text"
      },
      "source": [
        "<a href=\"https://colab.research.google.com/github/denis-spe/Digit-Recognization/blob/v2/digit_recognization_pytorch.ipynb\" target=\"_parent\"><img src=\"https://colab.research.google.com/assets/colab-badge.svg\" alt=\"Open In Colab\"/></a>"
      ]
    },
    {
      "cell_type": "markdown",
      "metadata": {
        "id": "RAq-VCxmh5Vw"
      },
      "source": [
        "<h1>Digit Recognization With Pytorch</h1>"
      ]
    },
    {
      "cell_type": "markdown",
      "metadata": {
        "id": "OWj3GPQ1h5V9"
      },
      "source": [
        "<h2 style=\"font-size: 20px;\">Import Necessary Libraries and packages</h2>"
      ]
    },
    {
      "cell_type": "code",
      "execution_count": 103,
      "metadata": {
        "colab": {
          "base_uri": "https://localhost:8080/"
        },
        "id": "902_XujGOl2D",
        "outputId": "ec7390db-7d70-45e6-a9c0-25f2258b4d37"
      },
      "outputs": [
        {
          "output_type": "stream",
          "name": "stdout",
          "text": [
            "Requirement already satisfied: torchinfo in /usr/local/lib/python3.7/dist-packages (1.6.5)\n"
          ]
        }
      ],
      "source": [
        "!pip install torchinfo\n"
      ]
    },
    {
      "cell_type": "code",
      "execution_count": 104,
      "metadata": {
        "colab": {
          "base_uri": "https://localhost:8080/"
        },
        "id": "zMt6hD8jh5V-",
        "outputId": "2a3738e0-d392-4bf6-d333-e03a73b483b5"
      },
      "outputs": [
        {
          "output_type": "stream",
          "name": "stdout",
          "text": [
            "Pytorch Version:  1.11.0+cu113\n"
          ]
        }
      ],
      "source": [
        "import torch\n",
        "import numpy as np\n",
        "import pandas as pd\n",
        "import os, warnings, time\n",
        "from PIL import Image\n",
        "from typing import Dict, Iterator\n",
        "from torchinfo import summary\n",
        "from torch import nn as nn\n",
        "import matplotlib.pyplot as plt\n",
        "from torch import functional as f\n",
        "from torchvision import transforms\n",
        "from torch.utils.data import Dataset\n",
        "from torch.utils.data import DataLoader\n",
        "print(\"Pytorch Version: \", torch.__version__)"
      ]
    },
    {
      "cell_type": "markdown",
      "metadata": {
        "id": "bAofDxrMh5WE"
      },
      "source": [
        "<h2 style=\"font-size: 20px;\">Configuring The NoteBook</h2>"
      ]
    },
    {
      "cell_type": "code",
      "execution_count": 105,
      "metadata": {
        "colab": {
          "base_uri": "https://localhost:8080/"
        },
        "id": "qS1Be65_h5WF",
        "outputId": "9ed0353e-0f02-4f21-a14b-6a2b2d335d62"
      },
      "outputs": [
        {
          "output_type": "stream",
          "name": "stdout",
          "text": [
            "Using cuda\n"
          ]
        }
      ],
      "source": [
        "# Setting the graph style\n",
        "plt.rc('figure', autolayout=True)\n",
        "plt.rc(\n",
        "    'axes', titleweight='bold', \n",
        "    titlesize=20, labelweight=700,\n",
        "    labelsize=13\n",
        "    )\n",
        "plt.rc('font', size=15)\n",
        "\n",
        "def set_seeds(seed: int=0):\n",
        "    \"\"\"Sets the Seed into order to same result on every code run\"\"\"\n",
        "    np.random.seed(seed)\n",
        "    torch.manual_seed(seed)\n",
        "\n",
        "# Call the set_seeds with default parameter\n",
        "set_seeds()\n",
        "\n",
        "# Turning the warnings\n",
        "warnings.filterwarnings('ignore')\n",
        "\n",
        "# Use the Gpu if available either cpu will be used\n",
        "device = 'cuda' if torch.cuda.is_available() else \"cpu\"\n",
        "print(\"Using %s\" % device)\n"
      ]
    },
    {
      "cell_type": "markdown",
      "metadata": {
        "id": "VromiOaMh5WJ"
      },
      "source": [
        "<h3 style=\"font-size: 20px;\">Setting the variable to be used in model building and training</h3>"
      ]
    },
    {
      "cell_type": "code",
      "execution_count": 106,
      "metadata": {
        "id": "F7oWDesPh5WL"
      },
      "outputs": [],
      "source": [
        "BATCH_SIZE=16\n",
        "EPOCHS = 10\n",
        "LEARNING_RATE = 1e-3"
      ]
    },
    {
      "cell_type": "markdown",
      "metadata": {
        "id": "qC0c6ztfh5WN"
      },
      "source": [
        "<h2 style=\"font-size: 20px;\">Above Data</h2>\n",
        "<p style=\"font-size: 15px;\">\n",
        "The data files train.csv and test.csv contain gray-scale images of hand-drawn digits, from zero through nine.\n",
        "\n",
        "Each image is 28 pixels in height and 28 pixels in width, for a total of 784 pixels in total. Each pixel has a single pixel-value associated with it, indicating the lightness or darkness of that pixel, with higher numbers meaning darker. This pixel-value is an integer between 0 and 255, inclusive.\n",
        "\n",
        "The training data set, (train.csv), has 785 columns. The first column, called \"label\", is the digit that was drawn by the user. The rest of the columns contain the pixel-values of the associated image.\n",
        "\n",
        "Each pixel column in the training set has a name like pixelx, where x is an integer between 0 and 783, inclusive. To locate this pixel on the image, suppose that we have decomposed x as x = i * 28 + j, where i and j are integers between 0 and 27, inclusive. Then pixelx is located on row i and column j of a 28 x 28 matrix, (indexing by zero).\n",
        "\n",
        "For example, pixel31 indicates the pixel that is in the fourth column from the left, and the second row from the top, as in the ascii-diagram below.\n",
        "\n",
        "Visually, if we omit the \"pixel\" prefix, the pixels make up the image like this:\n",
        "<pre>\n",
        "000 001 002 003 ... 026 027\n",
        "028 029 030 031 ... 054 055\n",
        "056 057 058 059 ... 082 083\n",
        "|   |   |   |  ...  |   |\n",
        "728 729 730 731 ... 754 755\n",
        "756 757 758 759 ... 782 783\n",
        "</pre>\n",
        "</p>"
      ]
    },
    {
      "cell_type": "markdown",
      "metadata": {
        "id": "MBpHjGIuh5WP"
      },
      "source": [
        "<h2 style=\"font-size: 20px;\">Load Csv File Into Pandas DataFrame</h2>"
      ]
    },
    {
      "cell_type": "code",
      "execution_count": 107,
      "metadata": {
        "colab": {
          "base_uri": "https://localhost:8080/"
        },
        "id": "-fJ3Mmu3h_Co",
        "outputId": "8d3e86e0-1ca6-4f90-c759-d117d6c46573"
      },
      "outputs": [
        {
          "output_type": "stream",
          "name": "stdout",
          "text": [
            "Drive already mounted at /gdrive; to attempt to forcibly remount, call drive.mount(\"/gdrive\", force_remount=True).\n"
          ]
        },
        {
          "output_type": "execute_result",
          "data": {
            "text/plain": [
              "['train.csv', 'test.csv', 'sample_submission.csv']"
            ]
          },
          "metadata": {},
          "execution_count": 107
        }
      ],
      "source": [
        "try:\n",
        "    from google.colab import drive\n",
        "    # Connect the google drive\n",
        "    drive.mount('/gdrive')\n",
        "\n",
        "    # list the files from drive\n",
        "    folder_path = '../gdrive/MyDrive/Datasets/MNIST_data'\n",
        "except ImportError:\n",
        "    folder_path = '../input/digit-recognizer'\n",
        "\n",
        "os.listdir(folder_path)"
      ]
    },
    {
      "cell_type": "code",
      "execution_count": 108,
      "metadata": {
        "id": "htANu1tch5WQ"
      },
      "outputs": [],
      "source": [
        "# Data Path\n",
        "train_data_path = folder_path + '/train.csv'\n",
        "test_data_path = folder_path + '/test.csv'\n",
        "\n",
        "\n"
      ]
    },
    {
      "cell_type": "code",
      "execution_count": 109,
      "metadata": {
        "id": "MG7ObC8XixQ_"
      },
      "outputs": [],
      "source": [
        "# Loading dataset into pandas \n",
        "train_df = pd.read_csv(train_data_path)\n",
        "test_df = pd.read_csv(test_data_path)"
      ]
    },
    {
      "cell_type": "markdown",
      "metadata": {
        "id": "6-sQevvSh5WS"
      },
      "source": [
        "<h2 style=\"font-size: 20px;\">View The Dataframe</h2>"
      ]
    },
    {
      "cell_type": "code",
      "execution_count": 110,
      "metadata": {
        "colab": {
          "base_uri": "https://localhost:8080/",
          "height": 317
        },
        "id": "IH8kp5lyh5WT",
        "outputId": "16b03ac3-6593-4737-cdf7-f1476125b643"
      },
      "outputs": [
        {
          "output_type": "stream",
          "name": "stdout",
          "text": [
            "(42000, 785)\n"
          ]
        },
        {
          "output_type": "execute_result",
          "data": {
            "text/plain": [
              "   label  pixel0  pixel1  pixel2  pixel3  pixel4  pixel5  pixel6  pixel7  \\\n",
              "0      1       0       0       0       0       0       0       0       0   \n",
              "1      0       0       0       0       0       0       0       0       0   \n",
              "2      1       0       0       0       0       0       0       0       0   \n",
              "3      4       0       0       0       0       0       0       0       0   \n",
              "4      0       0       0       0       0       0       0       0       0   \n",
              "\n",
              "   pixel8  ...  pixel774  pixel775  pixel776  pixel777  pixel778  pixel779  \\\n",
              "0       0  ...         0         0         0         0         0         0   \n",
              "1       0  ...         0         0         0         0         0         0   \n",
              "2       0  ...         0         0         0         0         0         0   \n",
              "3       0  ...         0         0         0         0         0         0   \n",
              "4       0  ...         0         0         0         0         0         0   \n",
              "\n",
              "   pixel780  pixel781  pixel782  pixel783  \n",
              "0         0         0         0         0  \n",
              "1         0         0         0         0  \n",
              "2         0         0         0         0  \n",
              "3         0         0         0         0  \n",
              "4         0         0         0         0  \n",
              "\n",
              "[5 rows x 785 columns]"
            ],
            "text/html": [
              "\n",
              "  <div id=\"df-b89dafa3-1dc8-480a-be0d-1d0e063e3d7d\">\n",
              "    <div class=\"colab-df-container\">\n",
              "      <div>\n",
              "<style scoped>\n",
              "    .dataframe tbody tr th:only-of-type {\n",
              "        vertical-align: middle;\n",
              "    }\n",
              "\n",
              "    .dataframe tbody tr th {\n",
              "        vertical-align: top;\n",
              "    }\n",
              "\n",
              "    .dataframe thead th {\n",
              "        text-align: right;\n",
              "    }\n",
              "</style>\n",
              "<table border=\"1\" class=\"dataframe\">\n",
              "  <thead>\n",
              "    <tr style=\"text-align: right;\">\n",
              "      <th></th>\n",
              "      <th>label</th>\n",
              "      <th>pixel0</th>\n",
              "      <th>pixel1</th>\n",
              "      <th>pixel2</th>\n",
              "      <th>pixel3</th>\n",
              "      <th>pixel4</th>\n",
              "      <th>pixel5</th>\n",
              "      <th>pixel6</th>\n",
              "      <th>pixel7</th>\n",
              "      <th>pixel8</th>\n",
              "      <th>...</th>\n",
              "      <th>pixel774</th>\n",
              "      <th>pixel775</th>\n",
              "      <th>pixel776</th>\n",
              "      <th>pixel777</th>\n",
              "      <th>pixel778</th>\n",
              "      <th>pixel779</th>\n",
              "      <th>pixel780</th>\n",
              "      <th>pixel781</th>\n",
              "      <th>pixel782</th>\n",
              "      <th>pixel783</th>\n",
              "    </tr>\n",
              "  </thead>\n",
              "  <tbody>\n",
              "    <tr>\n",
              "      <th>0</th>\n",
              "      <td>1</td>\n",
              "      <td>0</td>\n",
              "      <td>0</td>\n",
              "      <td>0</td>\n",
              "      <td>0</td>\n",
              "      <td>0</td>\n",
              "      <td>0</td>\n",
              "      <td>0</td>\n",
              "      <td>0</td>\n",
              "      <td>0</td>\n",
              "      <td>...</td>\n",
              "      <td>0</td>\n",
              "      <td>0</td>\n",
              "      <td>0</td>\n",
              "      <td>0</td>\n",
              "      <td>0</td>\n",
              "      <td>0</td>\n",
              "      <td>0</td>\n",
              "      <td>0</td>\n",
              "      <td>0</td>\n",
              "      <td>0</td>\n",
              "    </tr>\n",
              "    <tr>\n",
              "      <th>1</th>\n",
              "      <td>0</td>\n",
              "      <td>0</td>\n",
              "      <td>0</td>\n",
              "      <td>0</td>\n",
              "      <td>0</td>\n",
              "      <td>0</td>\n",
              "      <td>0</td>\n",
              "      <td>0</td>\n",
              "      <td>0</td>\n",
              "      <td>0</td>\n",
              "      <td>...</td>\n",
              "      <td>0</td>\n",
              "      <td>0</td>\n",
              "      <td>0</td>\n",
              "      <td>0</td>\n",
              "      <td>0</td>\n",
              "      <td>0</td>\n",
              "      <td>0</td>\n",
              "      <td>0</td>\n",
              "      <td>0</td>\n",
              "      <td>0</td>\n",
              "    </tr>\n",
              "    <tr>\n",
              "      <th>2</th>\n",
              "      <td>1</td>\n",
              "      <td>0</td>\n",
              "      <td>0</td>\n",
              "      <td>0</td>\n",
              "      <td>0</td>\n",
              "      <td>0</td>\n",
              "      <td>0</td>\n",
              "      <td>0</td>\n",
              "      <td>0</td>\n",
              "      <td>0</td>\n",
              "      <td>...</td>\n",
              "      <td>0</td>\n",
              "      <td>0</td>\n",
              "      <td>0</td>\n",
              "      <td>0</td>\n",
              "      <td>0</td>\n",
              "      <td>0</td>\n",
              "      <td>0</td>\n",
              "      <td>0</td>\n",
              "      <td>0</td>\n",
              "      <td>0</td>\n",
              "    </tr>\n",
              "    <tr>\n",
              "      <th>3</th>\n",
              "      <td>4</td>\n",
              "      <td>0</td>\n",
              "      <td>0</td>\n",
              "      <td>0</td>\n",
              "      <td>0</td>\n",
              "      <td>0</td>\n",
              "      <td>0</td>\n",
              "      <td>0</td>\n",
              "      <td>0</td>\n",
              "      <td>0</td>\n",
              "      <td>...</td>\n",
              "      <td>0</td>\n",
              "      <td>0</td>\n",
              "      <td>0</td>\n",
              "      <td>0</td>\n",
              "      <td>0</td>\n",
              "      <td>0</td>\n",
              "      <td>0</td>\n",
              "      <td>0</td>\n",
              "      <td>0</td>\n",
              "      <td>0</td>\n",
              "    </tr>\n",
              "    <tr>\n",
              "      <th>4</th>\n",
              "      <td>0</td>\n",
              "      <td>0</td>\n",
              "      <td>0</td>\n",
              "      <td>0</td>\n",
              "      <td>0</td>\n",
              "      <td>0</td>\n",
              "      <td>0</td>\n",
              "      <td>0</td>\n",
              "      <td>0</td>\n",
              "      <td>0</td>\n",
              "      <td>...</td>\n",
              "      <td>0</td>\n",
              "      <td>0</td>\n",
              "      <td>0</td>\n",
              "      <td>0</td>\n",
              "      <td>0</td>\n",
              "      <td>0</td>\n",
              "      <td>0</td>\n",
              "      <td>0</td>\n",
              "      <td>0</td>\n",
              "      <td>0</td>\n",
              "    </tr>\n",
              "  </tbody>\n",
              "</table>\n",
              "<p>5 rows × 785 columns</p>\n",
              "</div>\n",
              "      <button class=\"colab-df-convert\" onclick=\"convertToInteractive('df-b89dafa3-1dc8-480a-be0d-1d0e063e3d7d')\"\n",
              "              title=\"Convert this dataframe to an interactive table.\"\n",
              "              style=\"display:none;\">\n",
              "        \n",
              "  <svg xmlns=\"http://www.w3.org/2000/svg\" height=\"24px\"viewBox=\"0 0 24 24\"\n",
              "       width=\"24px\">\n",
              "    <path d=\"M0 0h24v24H0V0z\" fill=\"none\"/>\n",
              "    <path d=\"M18.56 5.44l.94 2.06.94-2.06 2.06-.94-2.06-.94-.94-2.06-.94 2.06-2.06.94zm-11 1L8.5 8.5l.94-2.06 2.06-.94-2.06-.94L8.5 2.5l-.94 2.06-2.06.94zm10 10l.94 2.06.94-2.06 2.06-.94-2.06-.94-.94-2.06-.94 2.06-2.06.94z\"/><path d=\"M17.41 7.96l-1.37-1.37c-.4-.4-.92-.59-1.43-.59-.52 0-1.04.2-1.43.59L10.3 9.45l-7.72 7.72c-.78.78-.78 2.05 0 2.83L4 21.41c.39.39.9.59 1.41.59.51 0 1.02-.2 1.41-.59l7.78-7.78 2.81-2.81c.8-.78.8-2.07 0-2.86zM5.41 20L4 18.59l7.72-7.72 1.47 1.35L5.41 20z\"/>\n",
              "  </svg>\n",
              "      </button>\n",
              "      \n",
              "  <style>\n",
              "    .colab-df-container {\n",
              "      display:flex;\n",
              "      flex-wrap:wrap;\n",
              "      gap: 12px;\n",
              "    }\n",
              "\n",
              "    .colab-df-convert {\n",
              "      background-color: #E8F0FE;\n",
              "      border: none;\n",
              "      border-radius: 50%;\n",
              "      cursor: pointer;\n",
              "      display: none;\n",
              "      fill: #1967D2;\n",
              "      height: 32px;\n",
              "      padding: 0 0 0 0;\n",
              "      width: 32px;\n",
              "    }\n",
              "\n",
              "    .colab-df-convert:hover {\n",
              "      background-color: #E2EBFA;\n",
              "      box-shadow: 0px 1px 2px rgba(60, 64, 67, 0.3), 0px 1px 3px 1px rgba(60, 64, 67, 0.15);\n",
              "      fill: #174EA6;\n",
              "    }\n",
              "\n",
              "    [theme=dark] .colab-df-convert {\n",
              "      background-color: #3B4455;\n",
              "      fill: #D2E3FC;\n",
              "    }\n",
              "\n",
              "    [theme=dark] .colab-df-convert:hover {\n",
              "      background-color: #434B5C;\n",
              "      box-shadow: 0px 1px 3px 1px rgba(0, 0, 0, 0.15);\n",
              "      filter: drop-shadow(0px 1px 2px rgba(0, 0, 0, 0.3));\n",
              "      fill: #FFFFFF;\n",
              "    }\n",
              "  </style>\n",
              "\n",
              "      <script>\n",
              "        const buttonEl =\n",
              "          document.querySelector('#df-b89dafa3-1dc8-480a-be0d-1d0e063e3d7d button.colab-df-convert');\n",
              "        buttonEl.style.display =\n",
              "          google.colab.kernel.accessAllowed ? 'block' : 'none';\n",
              "\n",
              "        async function convertToInteractive(key) {\n",
              "          const element = document.querySelector('#df-b89dafa3-1dc8-480a-be0d-1d0e063e3d7d');\n",
              "          const dataTable =\n",
              "            await google.colab.kernel.invokeFunction('convertToInteractive',\n",
              "                                                     [key], {});\n",
              "          if (!dataTable) return;\n",
              "\n",
              "          const docLinkHtml = 'Like what you see? Visit the ' +\n",
              "            '<a target=\"_blank\" href=https://colab.research.google.com/notebooks/data_table.ipynb>data table notebook</a>'\n",
              "            + ' to learn more about interactive tables.';\n",
              "          element.innerHTML = '';\n",
              "          dataTable['output_type'] = 'display_data';\n",
              "          await google.colab.output.renderOutput(dataTable, element);\n",
              "          const docLink = document.createElement('div');\n",
              "          docLink.innerHTML = docLinkHtml;\n",
              "          element.appendChild(docLink);\n",
              "        }\n",
              "      </script>\n",
              "    </div>\n",
              "  </div>\n",
              "  "
            ]
          },
          "metadata": {},
          "execution_count": 110
        }
      ],
      "source": [
        "# First Rows in the train data\n",
        "print(train_df.shape)\n",
        "train_df.head()"
      ]
    },
    {
      "cell_type": "code",
      "execution_count": 111,
      "metadata": {
        "colab": {
          "base_uri": "https://localhost:8080/",
          "height": 317
        },
        "id": "j01AA56Ih5WU",
        "outputId": "4b59c9b6-6da8-47e6-9d45-fe436ca20022"
      },
      "outputs": [
        {
          "output_type": "stream",
          "name": "stdout",
          "text": [
            "(28000, 784)\n"
          ]
        },
        {
          "output_type": "execute_result",
          "data": {
            "text/plain": [
              "   pixel0  pixel1  pixel2  pixel3  pixel4  pixel5  pixel6  pixel7  pixel8  \\\n",
              "0       0       0       0       0       0       0       0       0       0   \n",
              "1       0       0       0       0       0       0       0       0       0   \n",
              "2       0       0       0       0       0       0       0       0       0   \n",
              "3       0       0       0       0       0       0       0       0       0   \n",
              "4       0       0       0       0       0       0       0       0       0   \n",
              "\n",
              "   pixel9  ...  pixel774  pixel775  pixel776  pixel777  pixel778  pixel779  \\\n",
              "0       0  ...         0         0         0         0         0         0   \n",
              "1       0  ...         0         0         0         0         0         0   \n",
              "2       0  ...         0         0         0         0         0         0   \n",
              "3       0  ...         0         0         0         0         0         0   \n",
              "4       0  ...         0         0         0         0         0         0   \n",
              "\n",
              "   pixel780  pixel781  pixel782  pixel783  \n",
              "0         0         0         0         0  \n",
              "1         0         0         0         0  \n",
              "2         0         0         0         0  \n",
              "3         0         0         0         0  \n",
              "4         0         0         0         0  \n",
              "\n",
              "[5 rows x 784 columns]"
            ],
            "text/html": [
              "\n",
              "  <div id=\"df-4680e22c-c3dc-4eda-8609-d27d80efc929\">\n",
              "    <div class=\"colab-df-container\">\n",
              "      <div>\n",
              "<style scoped>\n",
              "    .dataframe tbody tr th:only-of-type {\n",
              "        vertical-align: middle;\n",
              "    }\n",
              "\n",
              "    .dataframe tbody tr th {\n",
              "        vertical-align: top;\n",
              "    }\n",
              "\n",
              "    .dataframe thead th {\n",
              "        text-align: right;\n",
              "    }\n",
              "</style>\n",
              "<table border=\"1\" class=\"dataframe\">\n",
              "  <thead>\n",
              "    <tr style=\"text-align: right;\">\n",
              "      <th></th>\n",
              "      <th>pixel0</th>\n",
              "      <th>pixel1</th>\n",
              "      <th>pixel2</th>\n",
              "      <th>pixel3</th>\n",
              "      <th>pixel4</th>\n",
              "      <th>pixel5</th>\n",
              "      <th>pixel6</th>\n",
              "      <th>pixel7</th>\n",
              "      <th>pixel8</th>\n",
              "      <th>pixel9</th>\n",
              "      <th>...</th>\n",
              "      <th>pixel774</th>\n",
              "      <th>pixel775</th>\n",
              "      <th>pixel776</th>\n",
              "      <th>pixel777</th>\n",
              "      <th>pixel778</th>\n",
              "      <th>pixel779</th>\n",
              "      <th>pixel780</th>\n",
              "      <th>pixel781</th>\n",
              "      <th>pixel782</th>\n",
              "      <th>pixel783</th>\n",
              "    </tr>\n",
              "  </thead>\n",
              "  <tbody>\n",
              "    <tr>\n",
              "      <th>0</th>\n",
              "      <td>0</td>\n",
              "      <td>0</td>\n",
              "      <td>0</td>\n",
              "      <td>0</td>\n",
              "      <td>0</td>\n",
              "      <td>0</td>\n",
              "      <td>0</td>\n",
              "      <td>0</td>\n",
              "      <td>0</td>\n",
              "      <td>0</td>\n",
              "      <td>...</td>\n",
              "      <td>0</td>\n",
              "      <td>0</td>\n",
              "      <td>0</td>\n",
              "      <td>0</td>\n",
              "      <td>0</td>\n",
              "      <td>0</td>\n",
              "      <td>0</td>\n",
              "      <td>0</td>\n",
              "      <td>0</td>\n",
              "      <td>0</td>\n",
              "    </tr>\n",
              "    <tr>\n",
              "      <th>1</th>\n",
              "      <td>0</td>\n",
              "      <td>0</td>\n",
              "      <td>0</td>\n",
              "      <td>0</td>\n",
              "      <td>0</td>\n",
              "      <td>0</td>\n",
              "      <td>0</td>\n",
              "      <td>0</td>\n",
              "      <td>0</td>\n",
              "      <td>0</td>\n",
              "      <td>...</td>\n",
              "      <td>0</td>\n",
              "      <td>0</td>\n",
              "      <td>0</td>\n",
              "      <td>0</td>\n",
              "      <td>0</td>\n",
              "      <td>0</td>\n",
              "      <td>0</td>\n",
              "      <td>0</td>\n",
              "      <td>0</td>\n",
              "      <td>0</td>\n",
              "    </tr>\n",
              "    <tr>\n",
              "      <th>2</th>\n",
              "      <td>0</td>\n",
              "      <td>0</td>\n",
              "      <td>0</td>\n",
              "      <td>0</td>\n",
              "      <td>0</td>\n",
              "      <td>0</td>\n",
              "      <td>0</td>\n",
              "      <td>0</td>\n",
              "      <td>0</td>\n",
              "      <td>0</td>\n",
              "      <td>...</td>\n",
              "      <td>0</td>\n",
              "      <td>0</td>\n",
              "      <td>0</td>\n",
              "      <td>0</td>\n",
              "      <td>0</td>\n",
              "      <td>0</td>\n",
              "      <td>0</td>\n",
              "      <td>0</td>\n",
              "      <td>0</td>\n",
              "      <td>0</td>\n",
              "    </tr>\n",
              "    <tr>\n",
              "      <th>3</th>\n",
              "      <td>0</td>\n",
              "      <td>0</td>\n",
              "      <td>0</td>\n",
              "      <td>0</td>\n",
              "      <td>0</td>\n",
              "      <td>0</td>\n",
              "      <td>0</td>\n",
              "      <td>0</td>\n",
              "      <td>0</td>\n",
              "      <td>0</td>\n",
              "      <td>...</td>\n",
              "      <td>0</td>\n",
              "      <td>0</td>\n",
              "      <td>0</td>\n",
              "      <td>0</td>\n",
              "      <td>0</td>\n",
              "      <td>0</td>\n",
              "      <td>0</td>\n",
              "      <td>0</td>\n",
              "      <td>0</td>\n",
              "      <td>0</td>\n",
              "    </tr>\n",
              "    <tr>\n",
              "      <th>4</th>\n",
              "      <td>0</td>\n",
              "      <td>0</td>\n",
              "      <td>0</td>\n",
              "      <td>0</td>\n",
              "      <td>0</td>\n",
              "      <td>0</td>\n",
              "      <td>0</td>\n",
              "      <td>0</td>\n",
              "      <td>0</td>\n",
              "      <td>0</td>\n",
              "      <td>...</td>\n",
              "      <td>0</td>\n",
              "      <td>0</td>\n",
              "      <td>0</td>\n",
              "      <td>0</td>\n",
              "      <td>0</td>\n",
              "      <td>0</td>\n",
              "      <td>0</td>\n",
              "      <td>0</td>\n",
              "      <td>0</td>\n",
              "      <td>0</td>\n",
              "    </tr>\n",
              "  </tbody>\n",
              "</table>\n",
              "<p>5 rows × 784 columns</p>\n",
              "</div>\n",
              "      <button class=\"colab-df-convert\" onclick=\"convertToInteractive('df-4680e22c-c3dc-4eda-8609-d27d80efc929')\"\n",
              "              title=\"Convert this dataframe to an interactive table.\"\n",
              "              style=\"display:none;\">\n",
              "        \n",
              "  <svg xmlns=\"http://www.w3.org/2000/svg\" height=\"24px\"viewBox=\"0 0 24 24\"\n",
              "       width=\"24px\">\n",
              "    <path d=\"M0 0h24v24H0V0z\" fill=\"none\"/>\n",
              "    <path d=\"M18.56 5.44l.94 2.06.94-2.06 2.06-.94-2.06-.94-.94-2.06-.94 2.06-2.06.94zm-11 1L8.5 8.5l.94-2.06 2.06-.94-2.06-.94L8.5 2.5l-.94 2.06-2.06.94zm10 10l.94 2.06.94-2.06 2.06-.94-2.06-.94-.94-2.06-.94 2.06-2.06.94z\"/><path d=\"M17.41 7.96l-1.37-1.37c-.4-.4-.92-.59-1.43-.59-.52 0-1.04.2-1.43.59L10.3 9.45l-7.72 7.72c-.78.78-.78 2.05 0 2.83L4 21.41c.39.39.9.59 1.41.59.51 0 1.02-.2 1.41-.59l7.78-7.78 2.81-2.81c.8-.78.8-2.07 0-2.86zM5.41 20L4 18.59l7.72-7.72 1.47 1.35L5.41 20z\"/>\n",
              "  </svg>\n",
              "      </button>\n",
              "      \n",
              "  <style>\n",
              "    .colab-df-container {\n",
              "      display:flex;\n",
              "      flex-wrap:wrap;\n",
              "      gap: 12px;\n",
              "    }\n",
              "\n",
              "    .colab-df-convert {\n",
              "      background-color: #E8F0FE;\n",
              "      border: none;\n",
              "      border-radius: 50%;\n",
              "      cursor: pointer;\n",
              "      display: none;\n",
              "      fill: #1967D2;\n",
              "      height: 32px;\n",
              "      padding: 0 0 0 0;\n",
              "      width: 32px;\n",
              "    }\n",
              "\n",
              "    .colab-df-convert:hover {\n",
              "      background-color: #E2EBFA;\n",
              "      box-shadow: 0px 1px 2px rgba(60, 64, 67, 0.3), 0px 1px 3px 1px rgba(60, 64, 67, 0.15);\n",
              "      fill: #174EA6;\n",
              "    }\n",
              "\n",
              "    [theme=dark] .colab-df-convert {\n",
              "      background-color: #3B4455;\n",
              "      fill: #D2E3FC;\n",
              "    }\n",
              "\n",
              "    [theme=dark] .colab-df-convert:hover {\n",
              "      background-color: #434B5C;\n",
              "      box-shadow: 0px 1px 3px 1px rgba(0, 0, 0, 0.15);\n",
              "      filter: drop-shadow(0px 1px 2px rgba(0, 0, 0, 0.3));\n",
              "      fill: #FFFFFF;\n",
              "    }\n",
              "  </style>\n",
              "\n",
              "      <script>\n",
              "        const buttonEl =\n",
              "          document.querySelector('#df-4680e22c-c3dc-4eda-8609-d27d80efc929 button.colab-df-convert');\n",
              "        buttonEl.style.display =\n",
              "          google.colab.kernel.accessAllowed ? 'block' : 'none';\n",
              "\n",
              "        async function convertToInteractive(key) {\n",
              "          const element = document.querySelector('#df-4680e22c-c3dc-4eda-8609-d27d80efc929');\n",
              "          const dataTable =\n",
              "            await google.colab.kernel.invokeFunction('convertToInteractive',\n",
              "                                                     [key], {});\n",
              "          if (!dataTable) return;\n",
              "\n",
              "          const docLinkHtml = 'Like what you see? Visit the ' +\n",
              "            '<a target=\"_blank\" href=https://colab.research.google.com/notebooks/data_table.ipynb>data table notebook</a>'\n",
              "            + ' to learn more about interactive tables.';\n",
              "          element.innerHTML = '';\n",
              "          dataTable['output_type'] = 'display_data';\n",
              "          await google.colab.output.renderOutput(dataTable, element);\n",
              "          const docLink = document.createElement('div');\n",
              "          docLink.innerHTML = docLinkHtml;\n",
              "          element.appendChild(docLink);\n",
              "        }\n",
              "      </script>\n",
              "    </div>\n",
              "  </div>\n",
              "  "
            ]
          },
          "metadata": {},
          "execution_count": 111
        }
      ],
      "source": [
        "# First Rows in the test data\n",
        "print(test_df.shape)\n",
        "test_df.head()"
      ]
    },
    {
      "cell_type": "markdown",
      "metadata": {
        "id": "7E0CD7qV5Szq"
      },
      "source": [
        "<h2 style=\"font-size: 20px;\">Split Train Dataset Into Train And Validation Set</h2>"
      ]
    },
    {
      "cell_type": "code",
      "execution_count": 112,
      "metadata": {
        "colab": {
          "base_uri": "https://localhost:8080/"
        },
        "id": "yZOWFflx5G54",
        "outputId": "f05784b4-c95e-420d-843e-bc46430b5afc"
      },
      "outputs": [
        {
          "output_type": "stream",
          "name": "stdout",
          "text": [
            "Train_data Shape (33172, 785)\n",
            "Valid_data: (8828, 785)\n"
          ]
        }
      ],
      "source": [
        "mask = np.random.randn(len(train_df)) <= 0.8\n",
        "train_data = train_df[mask]\n",
        "valid_data = train_df[~mask]\n",
        "print(f\"Train_data Shape {train_data.shape}\\nValid_data: {valid_data.shape}\")"
      ]
    },
    {
      "cell_type": "markdown",
      "metadata": {
        "id": "G18wkTxbh5WV"
      },
      "source": [
        "<h2 style=\"font-size: 20px;\">Creating Dataset</h2>"
      ]
    },
    {
      "cell_type": "code",
      "execution_count": 113,
      "metadata": {
        "id": "vsS_Z0xih5WV"
      },
      "outputs": [],
      "source": [
        "class CreateDataset(Dataset):\n",
        "    def __init__(self, df: pd.DataFrame, transforms: transforms = None, \n",
        "                 train: bool =True, normalize: bool = True):\n",
        "        self.transforms = transforms\n",
        "        self.train = train\n",
        "        self.df = df\n",
        "        self.len = self.df.shape[0]\n",
        "        self.normalize = normalize\n",
        "\n",
        "    def __len__(self):\n",
        "        return self.len\n",
        "\n",
        "    def __getitem__(self, index: int): \n",
        "        if 'label' in self.df.columns:\n",
        "            image = self.df.iloc[index, 1:].values.reshape(28, 28)\n",
        "            if self.normalize:\n",
        "                image = self.df.iloc[index, 1:].values.reshape(28, 28) / 255\n",
        "            label = self.df.iloc[index, 0]\n",
        "            if self.transforms:\n",
        "                image = self.transforms(image).type(torch.float)\n",
        "            return image, label\n",
        "        else:\n",
        "            image = self.df.iloc[index, :].values.reshape(28, 28)\n",
        "            if self.normalize:\n",
        "                image = self.df.iloc[index, :].values.reshape(28, 28) / 255\n",
        "            if self.transforms:\n",
        "                image = self.transforms(image).type(torch.float)\n",
        "            return image"
      ]
    },
    {
      "cell_type": "code",
      "execution_count": 114,
      "metadata": {
        "id": "S2ogKeC-sG05"
      },
      "outputs": [],
      "source": [
        "# Construct Datasets train_X_set \n",
        "train_X_set = CreateDataset(\n",
        "    train_data, \n",
        "    transforms=transforms.Compose([transforms.ToTensor()]))\n",
        "\n",
        "# Construct valid_X_set dataset\n",
        "valid_X_set = CreateDataset(\n",
        "    valid_data, \n",
        "    transforms=transforms.Compose([transforms.ToTensor()]))\n",
        "\n",
        "# Construct test_data \n",
        "test_data = CreateDataset(\n",
        "    test_df, \n",
        "    transforms=transforms.Compose([transforms.ToTensor()]))"
      ]
    },
    {
      "cell_type": "markdown",
      "metadata": {
        "id": "_9bELv8oh5WW"
      },
      "source": [
        "<h2 style=\"font-size: 20px;\">Placing Dataset Into Dataloader</h2>"
      ]
    },
    {
      "cell_type": "code",
      "execution_count": 115,
      "metadata": {
        "id": "Ev82xBN7h5WX"
      },
      "outputs": [],
      "source": [
        "# Coupling Datasets with dataloader function\n",
        "train_dataloader = DataLoader(train_X_set, batch_size=BATCH_SIZE, shuffle=True)\n",
        "valid_dataloader = DataLoader(valid_X_set, batch_size=BATCH_SIZE, shuffle=True)\n",
        "\n",
        "test_dataloader = DataLoader(test_data, batch_size=BATCH_SIZE, shuffle=False)"
      ]
    },
    {
      "cell_type": "markdown",
      "metadata": {
        "id": "uockZt5th5WY"
      },
      "source": [
        "<h2 style=\"font-size: 20px;\">Exploring Datasets</h2>"
      ]
    },
    {
      "cell_type": "code",
      "execution_count": 116,
      "metadata": {
        "id": "tN7ZRYojh5WY"
      },
      "outputs": [],
      "source": [
        "# Getting the first image and label in the train_dataset\n",
        "img, label = train_dataloader.dataset[0]"
      ]
    },
    {
      "cell_type": "code",
      "execution_count": 117,
      "metadata": {
        "colab": {
          "base_uri": "https://localhost:8080/"
        },
        "id": "Q1etS2PQh5Wd",
        "outputId": "d0f1d78d-6fee-4c41-a104-28ef2221d82a"
      },
      "outputs": [
        {
          "output_type": "stream",
          "name": "stdout",
          "text": [
            "Data Type for image: <class 'torch.Tensor'>\n",
            "Shape of images dataset: torch.Size([1, 28, 28])\n",
            "Data Type for label: <class 'numpy.int64'>\n",
            "Label [0, 1, 2, 3, 4, 5, 6, 7, 8, 9]\n"
          ]
        }
      ],
      "source": [
        "print(f\"Data Type for image: {type(img)}\")\n",
        "print(f\"Shape of images dataset: {img.size()}\")\n",
        "print(f\"Data Type for label: {type(label)}\")\n",
        "print(f\"Label {sorted(train_df.loc[:, 'label'].unique())}\")"
      ]
    },
    {
      "cell_type": "markdown",
      "metadata": {
        "id": "WePKN7FMh5Wf"
      },
      "source": [
        "<h2 style=\"font-size: 20px;\">Digits Visualization</h2>"
      ]
    },
    {
      "cell_type": "code",
      "execution_count": 118,
      "metadata": {
        "id": "AJlvuPjutYhr"
      },
      "outputs": [],
      "source": [
        "img = next(iter(test_dataloader))"
      ]
    },
    {
      "cell_type": "code",
      "execution_count": 119,
      "metadata": {
        "colab": {
          "base_uri": "https://localhost:8080/",
          "height": 286
        },
        "id": "6QVZuDKCh5Wg",
        "outputId": "ffbce855-71d2-4248-ad5e-74b7e09e7776"
      },
      "outputs": [
        {
          "output_type": "display_data",
          "data": {
            "text/plain": [
              "<Figure size 432x288 with 1 Axes>"
            ],
            "image/png": "[encoded data removed]"
          },
          "metadata": {
            "needs_background": "light"
          }
        }
      ],
      "source": [
        "\n",
        "# Visualizing of the one image in the test_dataset\n",
        "img = next(iter(test_dataloader.dataset))\n",
        "cmap = plt.get_cmap('Blues')\n",
        "plt.imshow(img.squeeze(), cmap=cmap)\n",
        "plt.axis('off')\n",
        "plt.show()"
      ]
    },
    {
      "cell_type": "code",
      "execution_count": 120,
      "metadata": {
        "colab": {
          "base_uri": "https://localhost:8080/",
          "height": 574
        },
        "id": "3rGh7K44h5Wh",
        "outputId": "5be66db8-9fd1-4eeb-d5ba-62e4000f840e"
      },
      "outputs": [
        {
          "output_type": "display_data",
          "data": {
            "text/plain": [
              "<Figure size 576x576 with 10 Axes>"
            ],
            "image/png": "[encoded data removed]"
          },
          "metadata": {
            "needs_background": "light"
          }
        }
      ],
      "source": [
        "# Create Subplot instance\n",
        "fig, ax = plt.subplots(figsize=(8, 8))\n",
        "\n",
        "# Number of columns and rows\n",
        "NROW = 3\n",
        "NCOL = 3\n",
        "\n",
        "# loop over the range of NROW * NCOL starting from 1\n",
        "for i in range(1, NROW * NROW + 1):\n",
        "    fig.add_subplot(NROW, NCOL, i)\n",
        "    \n",
        "    # Generat random number in range of length of image in the train_dataloader.dataset\n",
        "    idx = torch.randint(len(train_dataloader.dataset), size=(1,)).item()\n",
        "\n",
        "    # Get the image from the generated index\n",
        "    img, label = train_dataloader.dataset[idx]\n",
        "\n",
        "    # Plot it\n",
        "    plt.imshow(img.squeeze(), cmap=cmap)\n",
        "    plt.axis('off')\n",
        "    plt.title(label)\n",
        "    ax.set_xticklabels([])\n",
        "    ax.set_yticklabels([])\n",
        "    ax.set_axis_off()"
      ]
    },
    {
      "cell_type": "markdown",
      "metadata": {
        "id": "_yz-frsOh5Wi"
      },
      "source": [
        "<h2 style=\"font-size: 20px;\">Model Building</h2>"
      ]
    },
    {
      "cell_type": "code",
      "execution_count": 121,
      "metadata": {
        "id": "-VQ-HlOR8xGi"
      },
      "outputs": [],
      "source": [
        "class Model(nn.Module):\n",
        "    def __init__(self, layers: Iterator, device: any = None ) -> None:\n",
        "        self.__layers = layers\n",
        "        super(Model, self).__init__()\n",
        "        self.__stacked_layers = nn.Sequential(*self.__layers)\n",
        "        # \"\"\"\n",
        "        # Train and evaluate the model \n",
        "        # :param model to train:\n",
        "        # :optim for optimization process:\n",
        "        # :param loss to adjust gradient from optimizer:\n",
        "        # \"\"\"\n",
        "\n",
        "        # self.lr = lr\n",
        "        # self.optim = optimizer or torch.optim.Adam(\n",
        "        #                                            mnist_model.parameters(), \n",
        "        #                                            lr=self.lr)\n",
        "        \n",
        "        self.device = device\n",
        "\n",
        "    def forward(self, X):\n",
        "        return self.__stacked_layers(X)\n",
        "\n",
        "    def compile(self, optimize: any, loss: any) -> None:\n",
        "        self.optim = optimize\n",
        "        self.loss = loss\n",
        "        self.model = Model(self.__layers).to(self.device)\n",
        "    \n",
        "    def train_process(self, data_loader) -> None:\n",
        "        \"\"\"\n",
        "        Train model on train_data\n",
        "        \"\"\"\n",
        "        # Indicating the model to training\n",
        "        self.model.train()\n",
        "\n",
        "        # Number of images in  data_loader: size \n",
        "        size = len(data_loader.dataset)\n",
        "\n",
        "        # Initialize the metric variable\n",
        "        total_acc, total_loss, count_label, current = 0, 0, 0, 0\n",
        "\n",
        "        start = time.time()\n",
        "        # iterate over the data_loader\n",
        "        for batch, (X, y) in enumerate(data_loader):\n",
        "            # Switch to device \n",
        "            X, y = X.to(self.device), y.to(self.device)\n",
        "       \n",
        "            # Make prediction\n",
        "            yhat = self.model(X)\n",
        "            \n",
        "            # *** Backpropagation Process ***\n",
        "\n",
        "            # Compute error by measure the degree of dissimilarity \n",
        "            # from obtained result in target\n",
        "            criterion = self.loss(yhat, y)\n",
        "            \n",
        "            # Reset the gradient of the model parameters\n",
        "            # Gradients by default add up; to prevent double-counting, \n",
        "            # we explicitly zero them at each iteration.\n",
        "            self.optim.zero_grad()\n",
        "      \n",
        "            # Back propagate the prediction loss to deposit the gradient of loss\n",
        "            # for learnable parameters\n",
        "            criterion.backward()\n",
        "\n",
        "\n",
        "            # Adjust the parameters by gradient collected in the backward pass\n",
        "            self.optim.step()\n",
        "\n",
        "            # Count number of labels\n",
        "            count_label += len(y)\n",
        "\n",
        "            # sum each loss to total_loss variable\n",
        "            total_loss += criterion.item()\n",
        "\n",
        "            _, predict = torch.max(yhat, 1)\n",
        "\n",
        "            # Add every accuracy on total_acc\n",
        "            total_acc += (predict == y).sum().item()\n",
        "            \n",
        "            if batch % 100 == 0:\n",
        "                print(\".\", end=\" \")\n",
        "                current += (batch / size)\n",
        "\n",
        "\n",
        "        stop = time.time()\n",
        "        time_taken = round(stop - start, 3)\n",
        "\n",
        "        return (total_loss / count_label,\n",
        "                 total_acc / count_label, time_taken,\n",
        "                int(round(current * 100))\n",
        "                )\n",
        "\n",
        "    def evaluate (self, data_loader) -> None:\n",
        "        \"\"\" \n",
        "        Evaluation model with validation data\n",
        "        \"\"\"\n",
        "        # Directing model to evaluation process\n",
        "        self.model.eval()\n",
        "\n",
        "        # Instaniate metric variables\n",
        "        total_loss, total_acc, count_labels = 0, 0, 0\n",
        "\n",
        "        # Disabling gradient calculation\n",
        "        with torch.no_grad():\n",
        "            for X, y in data_loader:\n",
        "                # Set to device\n",
        "                X, y = X.to(self.device), y.to(self.device)\n",
        "\n",
        "                # Make prediction\n",
        "                pred = self.model(X)\n",
        "\n",
        "                # Compute the loss(error)\n",
        "                criterion = self.loss(pred, y)\n",
        "\n",
        "                # Add number of label to count_labels\n",
        "                count_labels += len(y)\n",
        "\n",
        "                # Add criterion loss to total_loss\n",
        "                total_loss += criterion.item()\n",
        "\n",
        "                # Sum accuracy to total_acc\n",
        "                total_acc += (pred.argmax(1) == y).sum().item()\n",
        "\n",
        "            # Finally return total_loss and total_acc which each is divded by\n",
        "            # count_labels\n",
        "            return total_loss / count_labels, total_acc /count_labels\n",
        "\n",
        "    def fit(\n",
        "        self, \n",
        "        train_data: DataLoader,\n",
        "        epochs: int = 1,\n",
        "        validation_data: DataLoader = None \n",
        "        ) -> None:\n",
        "        \"\"\"\n",
        "        The Fit method make use of train data and\n",
        "        validation data if provided\n",
        "        :param train_data. Data for training the model:\n",
        "        :param epoch. Number of iteration:\n",
        "        :param validation_data. Data to validate how well the model preformed:\n",
        "        \"\"\"\n",
        "        # Initializing variable for storing metric score\n",
        "        metrics = {}\n",
        "        acc_list = []\n",
        "        loss_list = []\n",
        "        valid_acc_list = []\n",
        "        valid_loss_list = []\n",
        "\n",
        "        # loop throught the epoch\n",
        "        for epoch in range(epochs):\n",
        "            print(f\"\\nEpoch {epoch + 1}/{epochs} \")\n",
        "            train = self.train_process(train_data)\n",
        "            # Instaniate train loss and accuracy\n",
        "            train_loss = round(train[0], 6)\n",
        "            train_acc = round(train[1], 5)\n",
        "            print(f\"{int(train[2])}s {train[3]}ms/steps - loss: {train_loss} - acc: {train_acc} \", end = \"\")\n",
        "            # Storing the model score\n",
        "            acc_list.append(train_acc)\n",
        "            loss_list.append(train_loss)\n",
        "\n",
        "            if validation_data:\n",
        "                valid = self.evaluate(validation_data)\n",
        "                # Instaniate train loss and accuracy\n",
        "                valid_loss = round(valid[0], 6)\n",
        "                valid_acc = round(valid[1], 4)\n",
        "                print(f\"- val_loss: {valid_loss} - val_acc: {valid_acc} \", end = \"\")\n",
        "                # Store the score \n",
        "                valid_loss_list.append(valid_loss)\n",
        "                valid_acc_list.append(valid_acc)\n",
        "\n",
        "        metrics[\"acc\"] = acc_list\n",
        "        metrics[\"loss\"] = loss_list\n",
        "        if validation_data:\n",
        "            metrics[\"val_acc\"] = valid_acc_list\n",
        "            metrics[\"val_loss\"] = valid_loss_list\n",
        "        return metrics\n",
        "    \n",
        "    def predict(self, y) -> torch.tensor:\n",
        "        # list storage for predictions\n",
        "        predictions = []\n",
        "\n",
        "        # Indicate to evalation process\n",
        "        #self.model.eval()\n",
        "\n",
        "        # Don't use the gradient\n",
        "        with torch.no_grad():\n",
        "\n",
        "            # Loop over the values in y\n",
        "            for val in y.dataset:\n",
        "\n",
        "                # switch to device\n",
        "                val = val.to(self.device)\n",
        "\n",
        "                # Make prediction\n",
        "                probability = self.model(val)\n",
        "\n",
        "                # probability variable returns probability\n",
        "                # Therefor convert it to actual value\n",
        "                pred = torch.argmax(probability, 1).item()\n",
        "\n",
        "                # Add prediction to predictions list\n",
        "                predictions.append(pred)\n",
        "        return predictions\n"
      ]
    },
    {
      "cell_type": "code",
      "execution_count": 122,
      "metadata": {
        "colab": {
          "base_uri": "https://localhost:8080/"
        },
        "id": "mqoD-ZsXQyXS",
        "outputId": "03336fac-a2c8-43e4-ef08-3c75e972b243"
      },
      "outputs": [
        {
          "output_type": "execute_result",
          "data": {
            "text/plain": [
              "=================================================================\n",
              "Layer (type:depth-idx)                   Param #\n",
              "=================================================================\n",
              "Model                                    --\n",
              "├─Sequential: 1-1                        --\n",
              "│    └─Flatten: 2-1                      --\n",
              "│    └─Linear: 2-2                       200,960\n",
              "│    └─ReLU: 2-3                         --\n",
              "│    └─Dropout: 2-4                      --\n",
              "│    └─Linear: 2-5                       65,792\n",
              "│    └─ReLU: 2-6                         --\n",
              "│    └─Dropout: 2-7                      --\n",
              "│    └─Linear: 2-8                       2,570\n",
              "│    └─Softmax: 2-9                      --\n",
              "=================================================================\n",
              "Total params: 269,322\n",
              "Trainable params: 269,322\n",
              "Non-trainable params: 0\n",
              "================================================================="
            ]
          },
          "metadata": {},
          "execution_count": 122
        }
      ],
      "source": [
        "# Initialize the TrainEvaluationModel: train_eval\n",
        "model = Model([\n",
        "               # Transpose Input data\n",
        "               nn.Flatten(),\n",
        "\n",
        "               # Input layer\n",
        "               nn.Linear(in_features=28*28, out_features=256),\n",
        "               nn.ReLU(), # Activation function\n",
        "               nn.Dropout(.4),\n",
        "\n",
        "               # First hidden layer\n",
        "               nn.Linear(in_features=256, out_features=256),\n",
        "               nn.ReLU(), # Activation function\n",
        "               nn.Dropout(.4), # Drop same pixal\n",
        "\n",
        "               # Output layer\n",
        "               nn.Linear(in_features=256, out_features=10),\n",
        "               nn.Softmax()\n",
        "\n",
        "               ])\n",
        "summary(model)"
      ]
    },
    {
      "cell_type": "code",
      "source": [
        "model.compile(\n",
        "    optimize=torch.optim.Adam(model.parameters()),\n",
        "    loss=nn.CrossEntropyLoss() \n",
        "    )"
      ],
      "metadata": {
        "id": "dVfoAjYzzsHG"
      },
      "execution_count": 123,
      "outputs": []
    },
    {
      "cell_type": "code",
      "execution_count": 124,
      "metadata": {
        "colab": {
          "base_uri": "https://localhost:8080/"
        },
        "id": "kjX0dNVt1rr4",
        "outputId": "b8f6719a-cd9e-4a17-c8a1-51cc5e49427d"
      },
      "outputs": [
        {
          "output_type": "stream",
          "name": "stdout",
          "text": [
            "\n",
            "Epoch 1/10 \n",
            ". . . . . . . . . . . . . . . . . . . . . 33s 63ms/steps - loss: 0.100625 - acc: 0.86079 - val_loss: 0.095927 - val_acc: 0.9287 \n",
            "Epoch 2/10 \n",
            ". . . . . . . . . . . . . . . . . . . . . 23s 63ms/steps - loss: 0.096558 - acc: 0.91794 - val_loss: 0.09553 - val_acc: 0.9336 \n",
            "Epoch 3/10 \n",
            ". . . . . . . . . . . . . . . . . . . . . 24s 63ms/steps - loss: 0.095903 - acc: 0.92774 - val_loss: 0.094912 - val_acc: 0.9419 \n",
            "Epoch 4/10 \n",
            ". . . . . . . . . . . . . . . . . . . . . 24s 63ms/steps - loss: 0.095589 - acc: 0.93235 - val_loss: 0.09481 - val_acc: 0.9453 \n",
            "Epoch 5/10 \n",
            ". . . . . . . . . . . . . . . . . . . . . 25s 63ms/steps - loss: 0.095475 - acc: 0.93437 - val_loss: 0.094546 - val_acc: 0.9493 \n",
            "Epoch 6/10 \n",
            ". . . . . . . . . . . . . . . . . . . . . 26s 63ms/steps - loss: 0.095272 - acc: 0.93721 - val_loss: 0.094439 - val_acc: 0.9506 \n",
            "Epoch 7/10 \n",
            ". . . . . . . . . . . . . . . . . . . . . 26s 63ms/steps - loss: 0.095177 - acc: 0.93853 - val_loss: 0.094622 - val_acc: 0.9476 \n",
            "Epoch 8/10 \n",
            ". . . . . . . . . . . . . . . . . . . . . 26s 63ms/steps - loss: 0.095271 - acc: 0.93721 - val_loss: 0.094441 - val_acc: 0.9507 \n",
            "Epoch 9/10 \n",
            ". . . . . . . . . . . . . . . . . . . . . 27s 63ms/steps - loss: 0.095048 - acc: 0.94073 - val_loss: 0.094233 - val_acc: 0.9543 \n",
            "Epoch 10/10 \n",
            ". . . . . . . . . . . . . . . . . . . . . 27s 63ms/steps - loss: 0.095152 - acc: 0.93935 - val_loss: 0.094491 - val_acc: 0.95 "
          ]
        }
      ],
      "source": [
        "history = model.fit(train_dataloader, epochs=EPOCHS, validation_data=valid_dataloader)"
      ]
    },
    {
      "cell_type": "markdown",
      "source": [
        "<h2 style=\"font-size: 20px;\">Model Evaluation</h2>"
      ],
      "metadata": {
        "id": "JRaR0JdLPMO3"
      }
    },
    {
      "cell_type": "code",
      "source": [
        "evalutate = model.evaluate(valid_dataloader)\n",
        "print(f\"Loss: {round(evalutate[0], 4)} - Accurary: {round(evalutate[1], 3)}%\")"
      ],
      "metadata": {
        "id": "iwHMrfUhPUY2",
        "outputId": "5c382c5a-9818-4b8f-acd4-bf7f10303570",
        "colab": {
          "base_uri": "https://localhost:8080/"
        }
      },
      "execution_count": 125,
      "outputs": [
        {
          "output_type": "stream",
          "name": "stdout",
          "text": [
            "Loss: 0.0945 - Accurary: 0.95%\n"
          ]
        }
      ]
    },
    {
      "cell_type": "code",
      "execution_count": 126,
      "metadata": {
        "id": "rBP5eUgpq2AF",
        "outputId": "1d92ad19-5527-4164-b8bf-0803b839cde1",
        "colab": {
          "base_uri": "https://localhost:8080/",
          "height": 411
        }
      },
      "outputs": [
        {
          "output_type": "display_data",
          "data": {
            "text/plain": [
              "<Figure size 864x360 with 2 Axes>"
            ],
            "image/png": "[encoded data removed]"
          },
          "metadata": {
            "needs_background": "light"
          }
        }
      ],
      "source": [
        "def plot_metrics(history: Dict, n_epoch: int) -> plt.figure:\n",
        "    \"\"\"\n",
        "    Return matplotlib figure with accuracy score \n",
        "    and loss score visualization\n",
        "    parameter:\n",
        "    -----------------------\n",
        "    :param history, Dictionary with model loss and accuracy:\n",
        "    :return plt.figure with subplots of train and validation score:\n",
        "    \"\"\"\n",
        "    fig, ax = plt.subplots(1, 2, figsize=(12, 5))\n",
        "    epochs = list(range(n_epoch))\n",
        "    ax[0].plot(epochs, history[\"acc\"], \"ob\")\n",
        "    ax[0].plot(epochs, history[\"val_acc\"])\n",
        "\n",
        "    ax[1].plot(epochs, history[\"loss\"], \"ob\")\n",
        "    ax[1].plot(epochs, history[\"val_loss\"])\n",
        "\n",
        "    for i in range(2):\n",
        "        ax[i].set_ylabel(f\"Accuracy\")\n",
        "        ax[i].set_xlabel(\"Epoch\")\n",
        "        \n",
        "        # Hide the right and top spines\n",
        "        ax[i].spines['right'].set_visible(False)\n",
        "        ax[i].spines['top'].set_visible(False)\n",
        "        ax[i].legend([\"train\", \"valid\"])\n",
        "\n",
        "    ax[0].set_title(f\"Train And Valid Accuracy\".title(), weight=500, y=1.06, size=15)\n",
        "    ax[1].set_title(f\"Train And Valid loss\".title(), weight=500, y=1.06, size=15)\n",
        "    fig.suptitle(\"Model Score Visualization\", y=1.1, weight=800, size=17)\n",
        "plot_metrics(history, n_epoch=EPOCHS)"
      ]
    },
    {
      "cell_type": "markdown",
      "metadata": {
        "id": "KQ-pYvS5sXnL"
      },
      "source": [
        "# Submission"
      ]
    },
    {
      "cell_type": "code",
      "execution_count": 127,
      "metadata": {
        "id": "Nj28nVG1hx2A"
      },
      "outputs": [],
      "source": [
        "# make predictions\n",
        "pred = model.predict(test_dataloader)"
      ]
    },
    {
      "cell_type": "code",
      "execution_count": 128,
      "metadata": {
        "id": "EHpXI36ak1Ia"
      },
      "outputs": [],
      "source": [
        "submission=pd.read_csv(folder_path + '/sample_submission.csv')\n",
        "submission['Label']=pred\n",
        "submission.to_csv('pytorch_prediction6.csv', index=False)"
      ]
    },
    {
      "cell_type": "code",
      "source": [
        ""
      ],
      "metadata": {
        "id": "g2ULG6XEFgde"
      },
      "execution_count": 128,
      "outputs": []
    }
  ],
  "metadata": {
    "accelerator": "GPU",
    "colab": {
      "collapsed_sections": [],
      "name": "digit_recognization_pytorch.ipynb",
      "provenance": [],
      "include_colab_link": true
    },
    "interpreter": {
      "hash": "fe2ff5e824d45c60ebd8700e9b0b9f7e0d88fd912d4809d61e13dd965c0e1922"
    },
    "kernelspec": {
      "display_name": "Python 3.9.7 64-bit ('pytorch': conda)",
      "language": "python",
      "name": "python3"
    },
    "language_info": {
      "codemirror_mode": {
        "name": "ipython",
        "version": 3
      },
      "file_extension": ".py",
      "mimetype": "text/x-python",
      "name": "python",
      "nbconvert_exporter": "python",
      "pygments_lexer": "ipython3",
      "version": "3.9.7"
    }
  },
  "nbformat": 4,
  "nbformat_minor": 0
}